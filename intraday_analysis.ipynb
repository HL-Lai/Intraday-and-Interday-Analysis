{
 "cells": [
  {
   "cell_type": "markdown",
   "id": "a2be275d-5a06-45f2-b201-21e4a2e5f2ec",
   "metadata": {},
   "source": [
    "# Intraday Analysis"
   ]
  },
  {
   "cell_type": "code",
   "execution_count": 1,
   "id": "1c3b9621-a244-4ac0-a545-a2d9c8fdff8e",
   "metadata": {},
   "outputs": [],
   "source": [
    "import numpy as np\n",
    "import pandas as pd\n",
    "import matplotlib.pyplot as plt\n",
    "import statsmodels.api as sm\n",
    "import statsmodels.formula.api as smf\n",
    "from scipy import signal"
   ]
  },
  {
   "cell_type": "code",
   "execution_count": 2,
   "id": "a14b9b3a-1e92-40f7-aa46-96defade6cb1",
   "metadata": {},
   "outputs": [],
   "source": [
    "# Import data\n",
    "df = pd.read_excel('hsi_price_data.xlsx', sheet_name = None)\n",
    "df[\"Intraday_data\"] = df[\"Intraday_data\"][[\"Datetime\", \"HSI_Price\"]]"
   ]
  },
  {
   "cell_type": "markdown",
   "id": "f7b4688c-c71e-4e61-add3-77f98bc806ad",
   "metadata": {
    "tags": []
   },
   "source": [
    "## Data Cleaning"
   ]
  },
  {
   "cell_type": "code",
   "execution_count": 3,
   "id": "bd355ea7-03e4-4b15-84c8-6dfb211e35bd",
   "metadata": {
    "tags": []
   },
   "outputs": [
    {
     "name": "stdout",
     "output_type": "stream",
     "text": [
      "Intraday_data\n",
      "Datetime     0\n",
      "HSI_Price    0\n",
      "dtype: int64\n",
      "==============================\n",
      "Interday_data\n",
      "Date             0\n",
      "Price          251\n",
      "Unnamed: 2    9167\n",
      "Unnamed: 3    9167\n",
      "Unnamed: 4    9167\n",
      "Unnamed: 5    9167\n",
      "Unnamed: 6    9167\n",
      "Unnamed: 7    9167\n",
      "Unnamed: 8    9167\n",
      "Unnamed: 9    9166\n",
      "dtype: int64"
     ]
    }
   ],
   "source": [
    "for i in df:\n",
    "    print(i, df[i].isna().sum(), sep='\\n', end = \"\\n\"+\"=\"*30+\"\\n\" if i != list(df.keys())[-1] else \"\")"
   ]
  },
  {
   "cell_type": "code",
   "execution_count": 4,
   "id": "f279b169-4bf0-40b2-84d5-d0ddab28c3f7",
   "metadata": {
    "tags": []
   },
   "outputs": [],
   "source": [
    "for i in df:\n",
    "    for j in df[i]:\n",
    "        j != \"Datetime\" and j != \"Date\" and df[i][j].interpolate(method = 'linear', inplace = True)\n",
    "df[\"Interday_data\"].dropna(axis = 1, inplace = True)"
   ]
  },
  {
   "cell_type": "code",
   "execution_count": 5,
   "id": "f85dd385-9504-422d-ae43-833d9b2db65c",
   "metadata": {
    "tags": []
   },
   "outputs": [
    {
     "name": "stdout",
     "output_type": "stream",
     "text": [
      "Intraday_data\n",
      "Datetime     0\n",
      "HSI_Price    0\n",
      "dtype: int64\n",
      "==============================\n",
      "Interday_data\n",
      "Date     0\n",
      "Price    0\n",
      "dtype: int64"
     ]
    }
   ],
   "source": [
    "for i in df:\n",
    "    print(i, df[i].isna().sum(), sep='\\n', end = \"\\n\"+\"=\"*30+\"\\n\" if i != list(df.keys())[-1] else \"\")"
   ]
  },
  {
   "cell_type": "markdown",
   "id": "d45241eb-de11-408b-8ade-a641caa88c3b",
   "metadata": {
    "tags": []
   },
   "source": [
    "# Intraday_data"
   ]
  },
  {
   "cell_type": "markdown",
   "id": "7208d162-9292-4168-adc4-196331622a21",
   "metadata": {
    "tags": []
   },
   "source": [
    "## Detrend"
   ]
  },
  {
   "cell_type": "code",
   "execution_count": 6,
   "id": "27305839-bc82-4213-899d-e55f1b17156d",
   "metadata": {},
   "outputs": [],
   "source": [
    "df1 = df[\"Intraday_data\"]"
   ]
  },
  {
   "cell_type": "code",
   "execution_count": 7,
   "id": "fe39d648-4210-4967-b0fd-ed1438772077",
   "metadata": {
    "tags": []
   },
   "outputs": [
    {
     "data": {
      "text/html": [
       "<div>\n",
       "<style scoped>\n",
       "    .dataframe tbody tr th:only-of-type {\n",
       "        vertical-align: middle;\n",
       "    }\n",
       "\n",
       "    .dataframe tbody tr th {\n",
       "        vertical-align: top;\n",
       "    }\n",
       "\n",
       "    .dataframe thead th {\n",
       "        text-align: right;\n",
       "    }\n",
       "</style>\n",
       "<table border=\"1\" class=\"dataframe\">\n",
       "  <thead>\n",
       "    <tr style=\"text-align: right;\">\n",
       "      <th></th>\n",
       "      <th>Datetime</th>\n",
       "      <th>HSI_Price</th>\n",
       "    </tr>\n",
       "  </thead>\n",
       "  <tbody>\n",
       "    <tr>\n",
       "      <th>0</th>\n",
       "      <td>2023-01-16 09:30</td>\n",
       "      <td>21830.23047</td>\n",
       "    </tr>\n",
       "    <tr>\n",
       "      <th>1</th>\n",
       "      <td>2023-01-16 09:31</td>\n",
       "      <td>21871.35938</td>\n",
       "    </tr>\n",
       "    <tr>\n",
       "      <th>2</th>\n",
       "      <td>2023-01-16 09:32</td>\n",
       "      <td>21854.58008</td>\n",
       "    </tr>\n",
       "    <tr>\n",
       "      <th>3</th>\n",
       "      <td>2023-01-16 09:33</td>\n",
       "      <td>21831.43945</td>\n",
       "    </tr>\n",
       "    <tr>\n",
       "      <th>4</th>\n",
       "      <td>2023-01-16 09:34</td>\n",
       "      <td>21831.41016</td>\n",
       "    </tr>\n",
       "  </tbody>\n",
       "</table>\n",
       "</div>"
      ],
      "text/plain": [
       "           Datetime    HSI_Price\n",
       "0  2023-01-16 09:30  21830.23047\n",
       "1  2023-01-16 09:31  21871.35938\n",
       "2  2023-01-16 09:32  21854.58008\n",
       "3  2023-01-16 09:33  21831.43945\n",
       "4  2023-01-16 09:34  21831.41016"
      ]
     },
     "execution_count": 7,
     "metadata": {},
     "output_type": "execute_result"
    }
   ],
   "source": [
    "df1.head()"
   ]
  },
  {
   "cell_type": "code",
   "execution_count": 8,
   "id": "a9d292a2-9f2e-4427-ac8a-2c892438bebf",
   "metadata": {},
   "outputs": [
    {
     "data": {
      "text/plain": [
       "<Axes: xlabel='Datetime'>"
      ]
     },
     "execution_count": 8,
     "metadata": {},
     "output_type": "execute_result"
    },
    {
     "data": {
      "image/png": "[encoded data removed]",
      "text/plain": [
       "<Figure size 1000x500 with 1 Axes>"
      ]
     },
     "metadata": {},
     "output_type": "display_data"
    }
   ],
   "source": [
    "df1.plot(figsize = [10, 5], x = \"Datetime\", y = \"HSI_Price\")"
   ]
  },
  {
   "cell_type": "code",
   "execution_count": 9,
   "id": "5cef9084-b5b3-4836-9039-fbe0a48c65c6",
   "metadata": {},
   "outputs": [],
   "source": [
    "df1.index = pd.to_datetime(df1.Datetime)"
   ]
  },
  {
   "cell_type": "code",
   "execution_count": 10,
   "id": "db4e4de4-9cfe-41c6-81a2-3f808d56c3e1",
   "metadata": {},
   "outputs": [],
   "source": [
    "from scipy import signal\n",
    "df1_detrended = signal.detrend(df1.HSI_Price)\n",
    "df1_detrended = pd.DataFrame(df1_detrended, index = df1.index, columns = [df1.columns[1]])"
   ]
  },
  {
   "cell_type": "code",
   "execution_count": 11,
   "id": "95bbc769-2898-4aa7-956f-d7fcc2dc3291",
   "metadata": {},
   "outputs": [
    {
     "data": {
      "text/html": [
       "<div>\n",
       "<style scoped>\n",
       "    .dataframe tbody tr th:only-of-type {\n",
       "        vertical-align: middle;\n",
       "    }\n",
       "\n",
       "    .dataframe tbody tr th {\n",
       "        vertical-align: top;\n",
       "    }\n",
       "\n",
       "    .dataframe thead th {\n",
       "        text-align: right;\n",
       "    }\n",
       "</style>\n",
       "<table border=\"1\" class=\"dataframe\">\n",
       "  <thead>\n",
       "    <tr style=\"text-align: right;\">\n",
       "      <th></th>\n",
       "      <th>HSI_Price</th>\n",
       "    </tr>\n",
       "    <tr>\n",
       "      <th>Datetime</th>\n",
       "      <th></th>\n",
       "    </tr>\n",
       "  </thead>\n",
       "  <tbody>\n",
       "    <tr>\n",
       "      <th>2023-01-16 09:30:00</th>\n",
       "      <td>-261.264664</td>\n",
       "    </tr>\n",
       "    <tr>\n",
       "      <th>2023-01-16 09:31:00</th>\n",
       "      <td>-220.011426</td>\n",
       "    </tr>\n",
       "    <tr>\n",
       "      <th>2023-01-16 09:32:00</th>\n",
       "      <td>-236.666397</td>\n",
       "    </tr>\n",
       "    <tr>\n",
       "      <th>2023-01-16 09:33:00</th>\n",
       "      <td>-259.682699</td>\n",
       "    </tr>\n",
       "    <tr>\n",
       "      <th>2023-01-16 09:34:00</th>\n",
       "      <td>-259.587660</td>\n",
       "    </tr>\n",
       "  </tbody>\n",
       "</table>\n",
       "</div>"
      ],
      "text/plain": [
       "                      HSI_Price\n",
       "Datetime                       \n",
       "2023-01-16 09:30:00 -261.264664\n",
       "2023-01-16 09:31:00 -220.011426\n",
       "2023-01-16 09:32:00 -236.666397\n",
       "2023-01-16 09:33:00 -259.682699\n",
       "2023-01-16 09:34:00 -259.587660"
      ]
     },
     "execution_count": 11,
     "metadata": {},
     "output_type": "execute_result"
    }
   ],
   "source": [
    "df1_detrended.head()"
   ]
  },
  {
   "cell_type": "code",
   "execution_count": 12,
   "id": "16554661-9523-44dd-9247-0f999a33aca3",
   "metadata": {},
   "outputs": [
    {
     "data": {
      "image/png": "[encoded data removed]",
      "text/plain": [
       "<Figure size 1000x500 with 1 Axes>"
      ]
     },
     "metadata": {},
     "output_type": "display_data"
    }
   ],
   "source": [
    "from matplotlib import pyplot as plt\n",
    "plt.figure(figsize=(10, 5))\n",
    "plt.plot(df1_detrended.index, df1_detrended[\"HSI_Price\"], label=\"HSI_Price detrended\")\n",
    "plt.legend(loc='best')\n",
    "plt.show()"
   ]
  },
  {
   "cell_type": "markdown",
   "id": "d8969a8b-bb48-4079-81cb-207c327e8cd1",
   "metadata": {
    "tags": []
   },
   "source": [
    "## 1-hot encoding"
   ]
  },
  {
   "cell_type": "code",
   "execution_count": 13,
   "id": "cb0d2403-1710-4b54-b61a-9fcbdb4c3d76",
   "metadata": {},
   "outputs": [
    {
     "data": {
      "text/html": [
       "<div>\n",
       "<style scoped>\n",
       "    .dataframe tbody tr th:only-of-type {\n",
       "        vertical-align: middle;\n",
       "    }\n",
       "\n",
       "    .dataframe tbody tr th {\n",
       "        vertical-align: top;\n",
       "    }\n",
       "\n",
       "    .dataframe thead th {\n",
       "        text-align: right;\n",
       "    }\n",
       "</style>\n",
       "<table border=\"1\" class=\"dataframe\">\n",
       "  <thead>\n",
       "    <tr style=\"text-align: right;\">\n",
       "      <th></th>\n",
       "      <th>HSI_Price</th>\n",
       "    </tr>\n",
       "    <tr>\n",
       "      <th>Datetime</th>\n",
       "      <th></th>\n",
       "    </tr>\n",
       "  </thead>\n",
       "  <tbody>\n",
       "    <tr>\n",
       "      <th>2023-01-16 09:30:00</th>\n",
       "      <td>-261.264664</td>\n",
       "    </tr>\n",
       "    <tr>\n",
       "      <th>2023-01-16 09:31:00</th>\n",
       "      <td>-220.011426</td>\n",
       "    </tr>\n",
       "    <tr>\n",
       "      <th>2023-01-16 09:32:00</th>\n",
       "      <td>-236.666397</td>\n",
       "    </tr>\n",
       "    <tr>\n",
       "      <th>2023-01-16 09:33:00</th>\n",
       "      <td>-259.682699</td>\n",
       "    </tr>\n",
       "    <tr>\n",
       "      <th>2023-01-16 09:34:00</th>\n",
       "      <td>-259.587660</td>\n",
       "    </tr>\n",
       "  </tbody>\n",
       "</table>\n",
       "</div>"
      ],
      "text/plain": [
       "                      HSI_Price\n",
       "Datetime                       \n",
       "2023-01-16 09:30:00 -261.264664\n",
       "2023-01-16 09:31:00 -220.011426\n",
       "2023-01-16 09:32:00 -236.666397\n",
       "2023-01-16 09:33:00 -259.682699\n",
       "2023-01-16 09:34:00 -259.587660"
      ]
     },
     "execution_count": 13,
     "metadata": {},
     "output_type": "execute_result"
    }
   ],
   "source": [
    "df1_detrended.head()"
   ]
  },
  {
   "cell_type": "code",
   "execution_count": 14,
   "id": "5606739f-f940-4918-a188-f5f58b3544fb",
   "metadata": {
    "tags": []
   },
   "outputs": [],
   "source": [
    "df2 = df1_detrended.groupby([df1_detrended.index.date, df1_detrended.index.hour, np.where(df1_detrended.index.minute // 30, 1, 0)]).mean()"
   ]
  },
  {
   "cell_type": "code",
   "execution_count": 15,
   "id": "bbfb285b-3e7e-46d1-9a94-6ac8b96411a8",
   "metadata": {},
   "outputs": [
    {
     "data": {
      "text/html": [
       "<div>\n",
       "<style scoped>\n",
       "    .dataframe tbody tr th:only-of-type {\n",
       "        vertical-align: middle;\n",
       "    }\n",
       "\n",
       "    .dataframe tbody tr th {\n",
       "        vertical-align: top;\n",
       "    }\n",
       "\n",
       "    .dataframe thead th {\n",
       "        text-align: right;\n",
       "    }\n",
       "</style>\n",
       "<table border=\"1\" class=\"dataframe\">\n",
       "  <thead>\n",
       "    <tr style=\"text-align: right;\">\n",
       "      <th></th>\n",
       "      <th></th>\n",
       "      <th></th>\n",
       "      <th>HSI_Price</th>\n",
       "    </tr>\n",
       "    <tr>\n",
       "      <th></th>\n",
       "      <th>Datetime</th>\n",
       "      <th></th>\n",
       "      <th></th>\n",
       "    </tr>\n",
       "  </thead>\n",
       "  <tbody>\n",
       "    <tr>\n",
       "      <th rowspan=\"5\" valign=\"top\">2023-01-16</th>\n",
       "      <th>9</th>\n",
       "      <th>1</th>\n",
       "      <td>-299.164831</td>\n",
       "    </tr>\n",
       "    <tr>\n",
       "      <th rowspan=\"2\" valign=\"top\">10</th>\n",
       "      <th>0</th>\n",
       "      <td>-182.397215</td>\n",
       "    </tr>\n",
       "    <tr>\n",
       "      <th>1</th>\n",
       "      <td>-233.540016</td>\n",
       "    </tr>\n",
       "    <tr>\n",
       "      <th rowspan=\"2\" valign=\"top\">11</th>\n",
       "      <th>0</th>\n",
       "      <td>-210.721487</td>\n",
       "    </tr>\n",
       "    <tr>\n",
       "      <th>1</th>\n",
       "      <td>-190.677226</td>\n",
       "    </tr>\n",
       "    <tr>\n",
       "      <th>...</th>\n",
       "      <th>...</th>\n",
       "      <th>...</th>\n",
       "      <td>...</td>\n",
       "    </tr>\n",
       "    <tr>\n",
       "      <th rowspan=\"5\" valign=\"top\">2023-02-13</th>\n",
       "      <th>13</th>\n",
       "      <th>1</th>\n",
       "      <td>-220.015577</td>\n",
       "    </tr>\n",
       "    <tr>\n",
       "      <th rowspan=\"2\" valign=\"top\">14</th>\n",
       "      <th>0</th>\n",
       "      <td>-263.664237</td>\n",
       "    </tr>\n",
       "    <tr>\n",
       "      <th>1</th>\n",
       "      <td>-274.370775</td>\n",
       "    </tr>\n",
       "    <tr>\n",
       "      <th rowspan=\"2\" valign=\"top\">15</th>\n",
       "      <th>0</th>\n",
       "      <td>-210.832847</td>\n",
       "    </tr>\n",
       "    <tr>\n",
       "      <th>1</th>\n",
       "      <td>-158.820895</td>\n",
       "    </tr>\n",
       "  </tbody>\n",
       "</table>\n",
       "<p>216 rows × 1 columns</p>\n",
       "</div>"
      ],
      "text/plain": [
       "                        HSI_Price\n",
       "           Datetime              \n",
       "2023-01-16 9        1 -299.164831\n",
       "           10       0 -182.397215\n",
       "                    1 -233.540016\n",
       "           11       0 -210.721487\n",
       "                    1 -190.677226\n",
       "...                           ...\n",
       "2023-02-13 13       1 -220.015577\n",
       "           14       0 -263.664237\n",
       "                    1 -274.370775\n",
       "           15       0 -210.832847\n",
       "                    1 -158.820895\n",
       "\n",
       "[216 rows x 1 columns]"
      ]
     },
     "execution_count": 15,
     "metadata": {},
     "output_type": "execute_result"
    }
   ],
   "source": [
    "df2"
   ]
  },
  {
   "cell_type": "code",
   "execution_count": 16,
   "id": "fb835376-684c-4b6f-8e8d-d47c30363eb2",
   "metadata": {},
   "outputs": [],
   "source": [
    "df2.index.names = [\"date\", \"hour\", \"half_hour\"]\n",
    "df2.reset_index(inplace=True)"
   ]
  },
  {
   "cell_type": "code",
   "execution_count": 17,
   "id": "ebe9a2c6-1f95-48f4-8ba6-0fe080fd6121",
   "metadata": {},
   "outputs": [],
   "source": [
    "df2 = df2.loc[~((df2[\"hour\"] == 12) & (df2[\"half_hour\"] == 0))]"
   ]
  },
  {
   "cell_type": "code",
   "execution_count": 18,
   "id": "5d84c6b2-8e7b-4092-bc89-342039527dc2",
   "metadata": {},
   "outputs": [
    {
     "data": {
      "text/html": [
       "<div>\n",
       "<style scoped>\n",
       "    .dataframe tbody tr th:only-of-type {\n",
       "        vertical-align: middle;\n",
       "    }\n",
       "\n",
       "    .dataframe tbody tr th {\n",
       "        vertical-align: top;\n",
       "    }\n",
       "\n",
       "    .dataframe thead th {\n",
       "        text-align: right;\n",
       "    }\n",
       "</style>\n",
       "<table border=\"1\" class=\"dataframe\">\n",
       "  <thead>\n",
       "    <tr style=\"text-align: right;\">\n",
       "      <th></th>\n",
       "      <th>date</th>\n",
       "      <th>hour</th>\n",
       "      <th>half_hour</th>\n",
       "      <th>HSI_Price</th>\n",
       "    </tr>\n",
       "  </thead>\n",
       "  <tbody>\n",
       "    <tr>\n",
       "      <th>0</th>\n",
       "      <td>2023-01-16</td>\n",
       "      <td>9</td>\n",
       "      <td>1</td>\n",
       "      <td>-299.164831</td>\n",
       "    </tr>\n",
       "    <tr>\n",
       "      <th>1</th>\n",
       "      <td>2023-01-16</td>\n",
       "      <td>10</td>\n",
       "      <td>0</td>\n",
       "      <td>-182.397215</td>\n",
       "    </tr>\n",
       "    <tr>\n",
       "      <th>2</th>\n",
       "      <td>2023-01-16</td>\n",
       "      <td>10</td>\n",
       "      <td>1</td>\n",
       "      <td>-233.540016</td>\n",
       "    </tr>\n",
       "    <tr>\n",
       "      <th>3</th>\n",
       "      <td>2023-01-16</td>\n",
       "      <td>11</td>\n",
       "      <td>0</td>\n",
       "      <td>-210.721487</td>\n",
       "    </tr>\n",
       "    <tr>\n",
       "      <th>4</th>\n",
       "      <td>2023-01-16</td>\n",
       "      <td>11</td>\n",
       "      <td>1</td>\n",
       "      <td>-190.677226</td>\n",
       "    </tr>\n",
       "    <tr>\n",
       "      <th>...</th>\n",
       "      <td>...</td>\n",
       "      <td>...</td>\n",
       "      <td>...</td>\n",
       "      <td>...</td>\n",
       "    </tr>\n",
       "    <tr>\n",
       "      <th>211</th>\n",
       "      <td>2023-02-13</td>\n",
       "      <td>13</td>\n",
       "      <td>1</td>\n",
       "      <td>-220.015577</td>\n",
       "    </tr>\n",
       "    <tr>\n",
       "      <th>212</th>\n",
       "      <td>2023-02-13</td>\n",
       "      <td>14</td>\n",
       "      <td>0</td>\n",
       "      <td>-263.664237</td>\n",
       "    </tr>\n",
       "    <tr>\n",
       "      <th>213</th>\n",
       "      <td>2023-02-13</td>\n",
       "      <td>14</td>\n",
       "      <td>1</td>\n",
       "      <td>-274.370775</td>\n",
       "    </tr>\n",
       "    <tr>\n",
       "      <th>214</th>\n",
       "      <td>2023-02-13</td>\n",
       "      <td>15</td>\n",
       "      <td>0</td>\n",
       "      <td>-210.832847</td>\n",
       "    </tr>\n",
       "    <tr>\n",
       "      <th>215</th>\n",
       "      <td>2023-02-13</td>\n",
       "      <td>15</td>\n",
       "      <td>1</td>\n",
       "      <td>-158.820895</td>\n",
       "    </tr>\n",
       "  </tbody>\n",
       "</table>\n",
       "<p>198 rows × 4 columns</p>\n",
       "</div>"
      ],
      "text/plain": [
       "           date  hour  half_hour   HSI_Price\n",
       "0    2023-01-16     9          1 -299.164831\n",
       "1    2023-01-16    10          0 -182.397215\n",
       "2    2023-01-16    10          1 -233.540016\n",
       "3    2023-01-16    11          0 -210.721487\n",
       "4    2023-01-16    11          1 -190.677226\n",
       "..          ...   ...        ...         ...\n",
       "211  2023-02-13    13          1 -220.015577\n",
       "212  2023-02-13    14          0 -263.664237\n",
       "213  2023-02-13    14          1 -274.370775\n",
       "214  2023-02-13    15          0 -210.832847\n",
       "215  2023-02-13    15          1 -158.820895\n",
       "\n",
       "[198 rows x 4 columns]"
      ]
     },
     "execution_count": 18,
     "metadata": {},
     "output_type": "execute_result"
    }
   ],
   "source": [
    "df2"
   ]
  },
  {
   "cell_type": "code",
   "execution_count": 19,
   "id": "a96642c6-e131-4376-9084-402850ea6ded",
   "metadata": {
    "tags": []
   },
   "outputs": [
    {
     "name": "stderr",
     "output_type": "stream",
     "text": [
      "/var/folders/j0/5r4rz32s725cs8d72phm110m0000gn/T/ipykernel_59399/425026908.py:1: SettingWithCopyWarning: \n",
      "A value is trying to be set on a copy of a slice from a DataFrame.\n",
      "Try using .loc[row_indexer,col_indexer] = value instead\n",
      "\n",
      "See the caveats in the documentation: https://pandas.pydata.org/pandas-docs/stable/user_guide/indexing.html#returning-a-view-versus-a-copy\n",
      "  df2[\"hour\"] = df2[\"hour\"].astype(str)\n",
      "/var/folders/j0/5r4rz32s725cs8d72phm110m0000gn/T/ipykernel_59399/425026908.py:2: SettingWithCopyWarning: \n",
      "A value is trying to be set on a copy of a slice from a DataFrame.\n",
      "Try using .loc[row_indexer,col_indexer] = value instead\n",
      "\n",
      "See the caveats in the documentation: https://pandas.pydata.org/pandas-docs/stable/user_guide/indexing.html#returning-a-view-versus-a-copy\n",
      "  df2[\"half_hour\"] = df2[\"half_hour\"].astype(str)\n"
     ]
    }
   ],
   "source": [
    "df2[\"hour\"] = df2[\"hour\"].astype(str)\n",
    "df2[\"half_hour\"] = df2[\"half_hour\"].astype(str)\n",
    "df2_dummies = pd.get_dummies(df2[[\"hour\", \"half_hour\"]], columns=[\"hour\", \"half_hour\"])"
   ]
  },
  {
   "cell_type": "code",
   "execution_count": 20,
   "id": "d5288470-c36e-44a1-b540-a61f71da7741",
   "metadata": {},
   "outputs": [
    {
     "data": {
      "text/html": [
       "<div>\n",
       "<style scoped>\n",
       "    .dataframe tbody tr th:only-of-type {\n",
       "        vertical-align: middle;\n",
       "    }\n",
       "\n",
       "    .dataframe tbody tr th {\n",
       "        vertical-align: top;\n",
       "    }\n",
       "\n",
       "    .dataframe thead th {\n",
       "        text-align: right;\n",
       "    }\n",
       "</style>\n",
       "<table border=\"1\" class=\"dataframe\">\n",
       "  <thead>\n",
       "    <tr style=\"text-align: right;\">\n",
       "      <th></th>\n",
       "      <th>hour_10</th>\n",
       "      <th>hour_11</th>\n",
       "      <th>hour_13</th>\n",
       "      <th>hour_14</th>\n",
       "      <th>hour_15</th>\n",
       "      <th>hour_9</th>\n",
       "      <th>half_hour_0</th>\n",
       "      <th>half_hour_1</th>\n",
       "    </tr>\n",
       "  </thead>\n",
       "  <tbody>\n",
       "    <tr>\n",
       "      <th>0</th>\n",
       "      <td>0</td>\n",
       "      <td>0</td>\n",
       "      <td>0</td>\n",
       "      <td>0</td>\n",
       "      <td>0</td>\n",
       "      <td>1</td>\n",
       "      <td>0</td>\n",
       "      <td>1</td>\n",
       "    </tr>\n",
       "    <tr>\n",
       "      <th>1</th>\n",
       "      <td>1</td>\n",
       "      <td>0</td>\n",
       "      <td>0</td>\n",
       "      <td>0</td>\n",
       "      <td>0</td>\n",
       "      <td>0</td>\n",
       "      <td>1</td>\n",
       "      <td>0</td>\n",
       "    </tr>\n",
       "    <tr>\n",
       "      <th>2</th>\n",
       "      <td>1</td>\n",
       "      <td>0</td>\n",
       "      <td>0</td>\n",
       "      <td>0</td>\n",
       "      <td>0</td>\n",
       "      <td>0</td>\n",
       "      <td>0</td>\n",
       "      <td>1</td>\n",
       "    </tr>\n",
       "    <tr>\n",
       "      <th>3</th>\n",
       "      <td>0</td>\n",
       "      <td>1</td>\n",
       "      <td>0</td>\n",
       "      <td>0</td>\n",
       "      <td>0</td>\n",
       "      <td>0</td>\n",
       "      <td>1</td>\n",
       "      <td>0</td>\n",
       "    </tr>\n",
       "    <tr>\n",
       "      <th>4</th>\n",
       "      <td>0</td>\n",
       "      <td>1</td>\n",
       "      <td>0</td>\n",
       "      <td>0</td>\n",
       "      <td>0</td>\n",
       "      <td>0</td>\n",
       "      <td>0</td>\n",
       "      <td>1</td>\n",
       "    </tr>\n",
       "    <tr>\n",
       "      <th>...</th>\n",
       "      <td>...</td>\n",
       "      <td>...</td>\n",
       "      <td>...</td>\n",
       "      <td>...</td>\n",
       "      <td>...</td>\n",
       "      <td>...</td>\n",
       "      <td>...</td>\n",
       "      <td>...</td>\n",
       "    </tr>\n",
       "    <tr>\n",
       "      <th>211</th>\n",
       "      <td>0</td>\n",
       "      <td>0</td>\n",
       "      <td>1</td>\n",
       "      <td>0</td>\n",
       "      <td>0</td>\n",
       "      <td>0</td>\n",
       "      <td>0</td>\n",
       "      <td>1</td>\n",
       "    </tr>\n",
       "    <tr>\n",
       "      <th>212</th>\n",
       "      <td>0</td>\n",
       "      <td>0</td>\n",
       "      <td>0</td>\n",
       "      <td>1</td>\n",
       "      <td>0</td>\n",
       "      <td>0</td>\n",
       "      <td>1</td>\n",
       "      <td>0</td>\n",
       "    </tr>\n",
       "    <tr>\n",
       "      <th>213</th>\n",
       "      <td>0</td>\n",
       "      <td>0</td>\n",
       "      <td>0</td>\n",
       "      <td>1</td>\n",
       "      <td>0</td>\n",
       "      <td>0</td>\n",
       "      <td>0</td>\n",
       "      <td>1</td>\n",
       "    </tr>\n",
       "    <tr>\n",
       "      <th>214</th>\n",
       "      <td>0</td>\n",
       "      <td>0</td>\n",
       "      <td>0</td>\n",
       "      <td>0</td>\n",
       "      <td>1</td>\n",
       "      <td>0</td>\n",
       "      <td>1</td>\n",
       "      <td>0</td>\n",
       "    </tr>\n",
       "    <tr>\n",
       "      <th>215</th>\n",
       "      <td>0</td>\n",
       "      <td>0</td>\n",
       "      <td>0</td>\n",
       "      <td>0</td>\n",
       "      <td>1</td>\n",
       "      <td>0</td>\n",
       "      <td>0</td>\n",
       "      <td>1</td>\n",
       "    </tr>\n",
       "  </tbody>\n",
       "</table>\n",
       "<p>198 rows × 8 columns</p>\n",
       "</div>"
      ],
      "text/plain": [
       "     hour_10  hour_11  hour_13  hour_14  hour_15  hour_9  half_hour_0  \\\n",
       "0          0        0        0        0        0       1            0   \n",
       "1          1        0        0        0        0       0            1   \n",
       "2          1        0        0        0        0       0            0   \n",
       "3          0        1        0        0        0       0            1   \n",
       "4          0        1        0        0        0       0            0   \n",
       "..       ...      ...      ...      ...      ...     ...          ...   \n",
       "211        0        0        1        0        0       0            0   \n",
       "212        0        0        0        1        0       0            1   \n",
       "213        0        0        0        1        0       0            0   \n",
       "214        0        0        0        0        1       0            1   \n",
       "215        0        0        0        0        1       0            0   \n",
       "\n",
       "     half_hour_1  \n",
       "0              1  \n",
       "1              0  \n",
       "2              1  \n",
       "3              0  \n",
       "4              1  \n",
       "..           ...  \n",
       "211            1  \n",
       "212            0  \n",
       "213            1  \n",
       "214            0  \n",
       "215            1  \n",
       "\n",
       "[198 rows x 8 columns]"
      ]
     },
     "execution_count": 20,
     "metadata": {},
     "output_type": "execute_result"
    }
   ],
   "source": [
    "df2_dummies"
   ]
  },
  {
   "cell_type": "code",
   "execution_count": 21,
   "id": "7378b51b-1c76-41d2-ae3a-b57e6a3cc1a7",
   "metadata": {},
   "outputs": [],
   "source": [
    "X = df2_dummies\n",
    "y = df2[\"HSI_Price\"]\n",
    "modelA = sm.OLS(y, X).fit()"
   ]
  },
  {
   "cell_type": "code",
   "execution_count": 22,
   "id": "2544b93f-e19d-4836-b26f-f3ad1938571a",
   "metadata": {},
   "outputs": [
    {
     "name": "stdout",
     "output_type": "stream",
     "text": [
      "                            OLS Regression Results                            \n",
      "==============================================================================\n",
      "Dep. Variable:              HSI_Price   R-squared:                       0.000\n",
      "Model:                            OLS   Adj. R-squared:                 -0.031\n",
      "Method:                 Least Squares   F-statistic:                  0.009291\n",
      "Date:                Sun, 12 Mar 2023   Prob (F-statistic):               1.00\n",
      "Time:                        04:09:29   Log-Likelihood:                -1454.3\n",
      "No. Observations:                 198   AIC:                             2923.\n",
      "Df Residuals:                     191   BIC:                             2946.\n",
      "Df Model:                           6                                         \n",
      "Covariance Type:            nonrobust                                         \n",
      "===============================================================================\n",
      "                  coef    std err          t      P>|t|      [0.025      0.975]\n",
      "-------------------------------------------------------------------------------\n",
      "hour_10         0.0474     59.042      0.001      0.999    -116.410     116.505\n",
      "hour_11        -5.0856     59.042     -0.086      0.931    -121.543     111.372\n",
      "hour_13        -8.7701     59.042     -0.149      0.882    -125.227     107.687\n",
      "hour_14        -0.5781     59.042     -0.010      0.992    -117.036     115.879\n",
      "hour_15         9.7647     59.042      0.165      0.869    -106.693     126.222\n",
      "hour_9          6.2864     84.400      0.074      0.941    -160.190     172.762\n",
      "half_hour_0     0.1170     38.277      0.003      0.998     -75.382      75.616\n",
      "half_hour_1     1.5477     32.572      0.048      0.962     -62.699      65.795\n",
      "==============================================================================\n",
      "Omnibus:                       20.369   Durbin-Watson:                   0.039\n",
      "Prob(Omnibus):                  0.000   Jarque-Bera (JB):               17.944\n",
      "Skew:                           0.657   Prob(JB):                     0.000127\n",
      "Kurtosis:                       2.330   Cond. No.                     8.82e+15\n",
      "==============================================================================\n",
      "\n",
      "Notes:\n",
      "[1] Standard Errors assume that the covariance matrix of the errors is correctly specified.\n",
      "[2] The smallest eigenvalue is 1.75e-30. This might indicate that there are\n",
      "strong multicollinearity problems or that the design matrix is singular.\n"
     ]
    }
   ],
   "source": [
    "print(modelA.summary())"
   ]
  },
  {
   "cell_type": "code",
   "execution_count": 23,
   "id": "93070745-4d1b-497b-ad49-fee7fb5b6593",
   "metadata": {},
   "outputs": [
    {
     "data": {
      "text/plain": [
       "0.00029178001726681835"
      ]
     },
     "execution_count": 23,
     "metadata": {},
     "output_type": "execute_result"
    }
   ],
   "source": [
    "modelA.rsquared"
   ]
  },
  {
   "cell_type": "code",
   "execution_count": 24,
   "id": "1c185279-1c61-47ee-ba95-542ffaf73960",
   "metadata": {},
   "outputs": [
    {
     "data": {
      "text/plain": [
       "hour_10        0.047396\n",
       "hour_11       -5.085577\n",
       "hour_13       -8.770055\n",
       "hour_14       -0.578124\n",
       "hour_15        9.764747\n",
       "hour_9         6.286351\n",
       "half_hour_0    0.116991\n",
       "half_hour_1    1.547747\n",
       "dtype: float64"
      ]
     },
     "execution_count": 24,
     "metadata": {},
     "output_type": "execute_result"
    }
   ],
   "source": [
    "modelA.params"
   ]
  },
  {
   "cell_type": "code",
   "execution_count": 25,
   "id": "7ce04e8f-a355-4138-85e8-077dabf3f879",
   "metadata": {},
   "outputs": [],
   "source": [
    "df1.index = pd.to_datetime(df1.Datetime)\n",
    "buy_mean = df1[(df1.index.hour == 13) & (df1.index.minute < 30)]['HSI_Price'].mean()\n",
    "sell_mean = df1[(df1.index.hour == 15) & (df1.index.minute >= 30)]['HSI_Price'].mean()"
   ]
  },
  {
   "cell_type": "code",
   "execution_count": 26,
   "id": "0e334b43-6c99-40e4-96d0-c260eefcef0a",
   "metadata": {},
   "outputs": [
    {
     "data": {
      "text/plain": [
       "1.0003645369836294"
      ]
     },
     "execution_count": 26,
     "metadata": {},
     "output_type": "execute_result"
    }
   ],
   "source": [
    "# calculate sell-to-buy ratio\n",
    "s2b_ratio = sell_mean / buy_mean\n",
    "s2b_ratio"
   ]
  },
  {
   "cell_type": "markdown",
   "id": "b39d9bea-6a23-4173-865a-f02e4d141e2e",
   "metadata": {},
   "source": [
    "## Optional method"
   ]
  },
  {
   "cell_type": "code",
   "execution_count": 27,
   "id": "61606e97-c5ec-4b03-bd74-0d8a38bed274",
   "metadata": {},
   "outputs": [],
   "source": [
    "q1 = 0.25\n",
    "q2 = 0.75"
   ]
  },
  {
   "cell_type": "code",
   "execution_count": 28,
   "id": "53779e97-3102-4480-b9f8-e13c7a2cd858",
   "metadata": {
    "tags": []
   },
   "outputs": [],
   "source": [
    "formula = \"HSI_Price ~ C(hour) + C(half_hour)\"\n",
    "model = smf.quantreg(formula, df2)\n",
    "\n",
    "results = pd.DataFrame(columns=[\"quantile\", \"hour\", \"half_hour\", \"price\"])"
   ]
  },
  {
   "cell_type": "code",
   "execution_count": 29,
   "id": "911a26d5-1377-4f6b-9d2e-df5aff857754",
   "metadata": {},
   "outputs": [
    {
     "data": {
      "text/html": [
       "<div>\n",
       "<style scoped>\n",
       "    .dataframe tbody tr th:only-of-type {\n",
       "        vertical-align: middle;\n",
       "    }\n",
       "\n",
       "    .dataframe tbody tr th {\n",
       "        vertical-align: top;\n",
       "    }\n",
       "\n",
       "    .dataframe thead th {\n",
       "        text-align: right;\n",
       "    }\n",
       "</style>\n",
       "<table border=\"1\" class=\"dataframe\">\n",
       "  <thead>\n",
       "    <tr style=\"text-align: right;\">\n",
       "      <th></th>\n",
       "      <th>Coef</th>\n",
       "    </tr>\n",
       "  </thead>\n",
       "  <tbody>\n",
       "    <tr>\n",
       "      <th>Intercept</th>\n",
       "      <td>607.220639</td>\n",
       "    </tr>\n",
       "    <tr>\n",
       "      <th>C(hour)[T.11]</th>\n",
       "      <td>-130.764813</td>\n",
       "    </tr>\n",
       "    <tr>\n",
       "      <th>C(hour)[T.13]</th>\n",
       "      <td>-163.553587</td>\n",
       "    </tr>\n",
       "    <tr>\n",
       "      <th>C(hour)[T.14]</th>\n",
       "      <td>-9.418211</td>\n",
       "    </tr>\n",
       "    <tr>\n",
       "      <th>C(hour)[T.15]</th>\n",
       "      <td>-43.008508</td>\n",
       "    </tr>\n",
       "    <tr>\n",
       "      <th>C(hour)[T.9]</th>\n",
       "      <td>148.582490</td>\n",
       "    </tr>\n",
       "    <tr>\n",
       "      <th>C(half_hour)[T.1]</th>\n",
       "      <td>16.773046</td>\n",
       "    </tr>\n",
       "  </tbody>\n",
       "</table>\n",
       "</div>"
      ],
      "text/plain": [
       "                         Coef\n",
       "Intercept          607.220639\n",
       "C(hour)[T.11]     -130.764813\n",
       "C(hour)[T.13]     -163.553587\n",
       "C(hour)[T.14]       -9.418211\n",
       "C(hour)[T.15]      -43.008508\n",
       "C(hour)[T.9]       148.582490\n",
       "C(half_hour)[T.1]   16.773046"
      ]
     },
     "execution_count": 29,
     "metadata": {},
     "output_type": "execute_result"
    }
   ],
   "source": [
    "quantile_model = model.fit(q=q1)\n",
    "params_1 = quantile_model.params\n",
    "quantile_model = model.fit(q=q2)\n",
    "params_2 = quantile_model.params\n",
    "    \n",
    "result = pd.concat([params_1, params_2], axis = 1)\n",
    "result.columns = [\"m1\", \"m2\"]\n",
    "result[\"Coef\"] = result[\"m2\"] - result[\"m1\"]\n",
    "\n",
    "result[[\"Coef\"]]"
   ]
  },
  {
   "cell_type": "code",
   "execution_count": 30,
   "id": "1c404d26-5459-4fad-8c40-2b4fa825c8cd",
   "metadata": {},
   "outputs": [
    {
     "name": "stdout",
     "output_type": "stream",
     "text": [
      "R-squared = 0.01837\n"
     ]
    }
   ],
   "source": [
    "quantile_model = model.fit(q=q1)\n",
    "r_1 = quantile_model.prsquared\n",
    "quantile_model = model.fit(q=q2)\n",
    "r_2 = quantile_model.prsquared\n",
    "R_2 = r_2 + r_1\n",
    "print(\"R-squared = {:.5f}\".format(R_2))"
   ]
  },
  {
   "cell_type": "code",
   "execution_count": 31,
   "id": "c79ee60f-4a54-429b-a44b-d486dacfe438",
   "metadata": {},
   "outputs": [
    {
     "data": {
      "text/html": [
       "<table class=\"simpletable\">\n",
       "<caption>QuantReg Regression Results</caption>\n",
       "<tr>\n",
       "  <th>Dep. Variable:</th>     <td>HSI_Price</td>    <th>  Pseudo R-squared:  </th> <td> 0.01062</td>\n",
       "</tr>\n",
       "<tr>\n",
       "  <th>Model:</th>             <td>QuantReg</td>     <th>  Bandwidth:         </th> <td>   285.2</td>\n",
       "</tr>\n",
       "<tr>\n",
       "  <th>Method:</th>          <td>Least Squares</td>  <th>  Sparsity:          </th> <td>   869.5</td>\n",
       "</tr>\n",
       "<tr>\n",
       "  <th>Date:</th>          <td>Sun, 12 Mar 2023</td> <th>  No. Observations:  </th>  <td>   198</td> \n",
       "</tr>\n",
       "<tr>\n",
       "  <th>Time:</th>              <td>04:09:29</td>     <th>  Df Residuals:      </th>  <td>   191</td> \n",
       "</tr>\n",
       "<tr>\n",
       "  <th> </th>                      <td> </td>        <th>  Df Model:          </th>  <td>     6</td> \n",
       "</tr>\n",
       "</table>\n",
       "<table class=\"simpletable\">\n",
       "<tr>\n",
       "          <td></td>             <th>coef</th>     <th>std err</th>      <th>t</th>      <th>P>|t|</th>  <th>[0.025</th>    <th>0.975]</th>  \n",
       "</tr>\n",
       "<tr>\n",
       "  <th>Intercept</th>         <td> -338.3610</td> <td>   67.972</td> <td>   -4.978</td> <td> 0.000</td> <td> -472.433</td> <td> -204.289</td>\n",
       "</tr>\n",
       "<tr>\n",
       "  <th>C(hour)[T.11]</th>     <td>   62.7236</td> <td>   88.743</td> <td>    0.707</td> <td> 0.481</td> <td> -112.319</td> <td>  237.766</td>\n",
       "</tr>\n",
       "<tr>\n",
       "  <th>C(hour)[T.13]</th>     <td>  107.0616</td> <td>   88.743</td> <td>    1.206</td> <td> 0.229</td> <td>  -67.981</td> <td>  282.104</td>\n",
       "</tr>\n",
       "<tr>\n",
       "  <th>C(hour)[T.14]</th>     <td>   60.8980</td> <td>   90.371</td> <td>    0.674</td> <td> 0.501</td> <td> -117.356</td> <td>  239.152</td>\n",
       "</tr>\n",
       "<tr>\n",
       "  <th>C(hour)[T.15]</th>     <td>   27.7251</td> <td>   88.743</td> <td>    0.312</td> <td> 0.755</td> <td> -147.317</td> <td>  202.767</td>\n",
       "</tr>\n",
       "<tr>\n",
       "  <th>C(hour)[T.9]</th>      <td>  -28.4755</td> <td>  115.379</td> <td>   -0.247</td> <td> 0.805</td> <td> -256.055</td> <td>  199.104</td>\n",
       "</tr>\n",
       "<tr>\n",
       "  <th>C(half_hour)[T.1]</th> <td>   -0.0561</td> <td>   56.540</td> <td>   -0.001</td> <td> 0.999</td> <td> -111.580</td> <td>  111.467</td>\n",
       "</tr>\n",
       "</table>"
      ],
      "text/plain": [
       "<class 'statsmodels.iolib.summary.Summary'>\n",
       "\"\"\"\n",
       "                         QuantReg Regression Results                          \n",
       "==============================================================================\n",
       "Dep. Variable:              HSI_Price   Pseudo R-squared:              0.01062\n",
       "Model:                       QuantReg   Bandwidth:                       285.2\n",
       "Method:                 Least Squares   Sparsity:                        869.5\n",
       "Date:                Sun, 12 Mar 2023   No. Observations:                  198\n",
       "Time:                        04:09:29   Df Residuals:                      191\n",
       "                                        Df Model:                            6\n",
       "=====================================================================================\n",
       "                        coef    std err          t      P>|t|      [0.025      0.975]\n",
       "-------------------------------------------------------------------------------------\n",
       "Intercept          -338.3610     67.972     -4.978      0.000    -472.433    -204.289\n",
       "C(hour)[T.11]        62.7236     88.743      0.707      0.481    -112.319     237.766\n",
       "C(hour)[T.13]       107.0616     88.743      1.206      0.229     -67.981     282.104\n",
       "C(hour)[T.14]        60.8980     90.371      0.674      0.501    -117.356     239.152\n",
       "C(hour)[T.15]        27.7251     88.743      0.312      0.755    -147.317     202.767\n",
       "C(hour)[T.9]        -28.4755    115.379     -0.247      0.805    -256.055     199.104\n",
       "C(half_hour)[T.1]    -0.0561     56.540     -0.001      0.999    -111.580     111.467\n",
       "=====================================================================================\n",
       "\"\"\""
      ]
     },
     "metadata": {},
     "output_type": "display_data"
    },
    {
     "data": {
      "text/html": [
       "<table class=\"simpletable\">\n",
       "<caption>QuantReg Regression Results</caption>\n",
       "<tr>\n",
       "  <th>Dep. Variable:</th>     <td>HSI_Price</td>    <th>  Pseudo R-squared:  </th> <td>0.007747</td>\n",
       "</tr>\n",
       "<tr>\n",
       "  <th>Model:</th>             <td>QuantReg</td>     <th>  Bandwidth:         </th> <td>   285.2</td>\n",
       "</tr>\n",
       "<tr>\n",
       "  <th>Method:</th>          <td>Least Squares</td>  <th>  Sparsity:          </th> <td>   2124.</td>\n",
       "</tr>\n",
       "<tr>\n",
       "  <th>Date:</th>          <td>Sun, 12 Mar 2023</td> <th>  No. Observations:  </th>  <td>   198</td> \n",
       "</tr>\n",
       "<tr>\n",
       "  <th>Time:</th>              <td>04:09:29</td>     <th>  Df Residuals:      </th>  <td>   191</td> \n",
       "</tr>\n",
       "<tr>\n",
       "  <th> </th>                      <td> </td>        <th>  Df Model:          </th>  <td>     6</td> \n",
       "</tr>\n",
       "</table>\n",
       "<table class=\"simpletable\">\n",
       "<tr>\n",
       "          <td></td>             <th>coef</th>     <th>std err</th>      <th>t</th>      <th>P>|t|</th>  <th>[0.025</th>    <th>0.975]</th>  \n",
       "</tr>\n",
       "<tr>\n",
       "  <th>Intercept</th>         <td>  268.8596</td> <td>  170.192</td> <td>    1.580</td> <td> 0.116</td> <td>  -66.837</td> <td>  604.556</td>\n",
       "</tr>\n",
       "<tr>\n",
       "  <th>C(hour)[T.11]</th>     <td>  -68.0412</td> <td>  216.792</td> <td>   -0.314</td> <td> 0.754</td> <td> -495.656</td> <td>  359.573</td>\n",
       "</tr>\n",
       "<tr>\n",
       "  <th>C(hour)[T.13]</th>     <td>  -56.4920</td> <td>  216.792</td> <td>   -0.261</td> <td> 0.795</td> <td> -484.106</td> <td>  371.123</td>\n",
       "</tr>\n",
       "<tr>\n",
       "  <th>C(hour)[T.14]</th>     <td>   51.4798</td> <td>  220.770</td> <td>    0.233</td> <td> 0.816</td> <td> -383.981</td> <td>  486.941</td>\n",
       "</tr>\n",
       "<tr>\n",
       "  <th>C(hour)[T.15]</th>     <td>  -15.2834</td> <td>  216.792</td> <td>   -0.070</td> <td> 0.944</td> <td> -442.898</td> <td>  412.331</td>\n",
       "</tr>\n",
       "<tr>\n",
       "  <th>C(hour)[T.9]</th>      <td>  120.1070</td> <td>  279.380</td> <td>    0.430</td> <td> 0.668</td> <td> -430.959</td> <td>  671.173</td>\n",
       "</tr>\n",
       "<tr>\n",
       "  <th>C(half_hour)[T.1]</th> <td>   16.7170</td> <td>  138.123</td> <td>    0.121</td> <td> 0.904</td> <td> -255.726</td> <td>  289.160</td>\n",
       "</tr>\n",
       "</table>"
      ],
      "text/plain": [
       "<class 'statsmodels.iolib.summary.Summary'>\n",
       "\"\"\"\n",
       "                         QuantReg Regression Results                          \n",
       "==============================================================================\n",
       "Dep. Variable:              HSI_Price   Pseudo R-squared:             0.007747\n",
       "Model:                       QuantReg   Bandwidth:                       285.2\n",
       "Method:                 Least Squares   Sparsity:                        2124.\n",
       "Date:                Sun, 12 Mar 2023   No. Observations:                  198\n",
       "Time:                        04:09:29   Df Residuals:                      191\n",
       "                                        Df Model:                            6\n",
       "=====================================================================================\n",
       "                        coef    std err          t      P>|t|      [0.025      0.975]\n",
       "-------------------------------------------------------------------------------------\n",
       "Intercept           268.8596    170.192      1.580      0.116     -66.837     604.556\n",
       "C(hour)[T.11]       -68.0412    216.792     -0.314      0.754    -495.656     359.573\n",
       "C(hour)[T.13]       -56.4920    216.792     -0.261      0.795    -484.106     371.123\n",
       "C(hour)[T.14]        51.4798    220.770      0.233      0.816    -383.981     486.941\n",
       "C(hour)[T.15]       -15.2834    216.792     -0.070      0.944    -442.898     412.331\n",
       "C(hour)[T.9]        120.1070    279.380      0.430      0.668    -430.959     671.173\n",
       "C(half_hour)[T.1]    16.7170    138.123      0.121      0.904    -255.726     289.160\n",
       "=====================================================================================\n",
       "\"\"\""
      ]
     },
     "metadata": {},
     "output_type": "display_data"
    }
   ],
   "source": [
    "for q in [q1, q2]:\n",
    "    quantile_model = model.fit(q=q)\n",
    "    display(quantile_model.summary())"
   ]
  },
  {
   "cell_type": "code",
   "execution_count": 32,
   "id": "9e1e9c7b-3797-4dad-8f9d-db803129c99f",
   "metadata": {},
   "outputs": [],
   "source": [
    "df1.index = pd.to_datetime(df1.Datetime)\n",
    "buy_mean = df1[(df1.index.hour == 13) & (df1.index.minute < 30)]['HSI_Price'].mean()\n",
    "sell_mean = df1[(df1.index.hour == 9) & (df1.index.minute >= 30)]['HSI_Price'].mean()"
   ]
  },
  {
   "cell_type": "code",
   "execution_count": 33,
   "id": "0cc186e1-4e0a-49fe-9851-ef2ef35091bc",
   "metadata": {},
   "outputs": [
    {
     "data": {
      "text/plain": [
       "1.0013097339963892"
      ]
     },
     "execution_count": 33,
     "metadata": {},
     "output_type": "execute_result"
    }
   ],
   "source": [
    "# calculate sell-to-buy ratio\n",
    "s2b_ratio = sell_mean / buy_mean\n",
    "s2b_ratio"
   ]
  }
 ],
 "metadata": {
  "kernelspec": {
   "display_name": "Python 3 (ipykernel)",
   "language": "python",
   "name": "python3"
  },
  "language_info": {
   "codemirror_mode": {
    "name": "ipython",
    "version": 3
   },
   "file_extension": ".py",
   "mimetype": "text/x-python",
   "name": "python",
   "nbconvert_exporter": "python",
   "pygments_lexer": "ipython3",
   "version": "3.11.3"
  }
 },
 "nbformat": 4,
 "nbformat_minor": 5
}
