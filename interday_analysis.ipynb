{
 "cells": [
  {
   "cell_type": "markdown",
   "id": "e1f03e58-492d-4661-b0f6-758c0a16fabc",
   "metadata": {},
   "source": [
    "# Interday Analysis"
   ]
  },
  {
   "cell_type": "code",
   "execution_count": 1,
   "id": "1c3b9621-a244-4ac0-a545-a2d9c8fdff8e",
   "metadata": {},
   "outputs": [],
   "source": [
    "import numpy as np\n",
    "import pandas as pd\n",
    "import matplotlib.pyplot as plt\n",
    "import statsmodels.api as sm\n",
    "import statsmodels.formula.api as smf\n",
    "from scipy import signal"
   ]
  },
  {
   "cell_type": "code",
   "execution_count": 2,
   "id": "a14b9b3a-1e92-40f7-aa46-96defade6cb1",
   "metadata": {},
   "outputs": [],
   "source": [
    "# Import data\n",
    "df = pd.read_excel('hsi_price_data.xlsx', sheet_name = None)"
   ]
  },
  {
   "cell_type": "markdown",
   "id": "f7b4688c-c71e-4e61-add3-77f98bc806ad",
   "metadata": {
    "jp-MarkdownHeadingCollapsed": true,
    "tags": []
   },
   "source": [
    "## Data Cleaning"
   ]
  },
  {
   "cell_type": "code",
   "execution_count": 3,
   "id": "bd355ea7-03e4-4b15-84c8-6dfb211e35bd",
   "metadata": {
    "tags": []
   },
   "outputs": [
    {
     "name": "stdout",
     "output_type": "stream",
     "text": [
      "Intraday_data\n",
      "Datetime         0\n",
      "HSI_Price        0\n",
      "Date             0\n",
      "Time             0\n",
      "9:30 - 9:59      0\n",
      "10:00 - 10:29    0\n",
      "10:30 - 10:59    0\n",
      "11:00 - 11:29    0\n",
      "11:30 - 11:59    0\n",
      "13:00 - 13:29    0\n",
      "13:30 - 13:59    0\n",
      "14:00 - 14:29    0\n",
      "14:30 - 14:59    0\n",
      "15:00 - 15:29    0\n",
      "15:30 - 15:59    0\n",
      "dtype: int64\n",
      "==============================\n",
      "Interday_data\n",
      "Date             0\n",
      "Price          251\n",
      "Unnamed: 2    9167\n",
      "Unnamed: 3    9167\n",
      "Unnamed: 4    9167\n",
      "Unnamed: 5    9167\n",
      "Unnamed: 6    9167\n",
      "Unnamed: 7    9167\n",
      "Unnamed: 8    9167\n",
      "Unnamed: 9    9166\n",
      "dtype: int64"
     ]
    }
   ],
   "source": [
    "for i in df:\n",
    "    print(i, df[i].isna().sum(), sep='\\n', end = \"\\n\"+\"=\"*30+\"\\n\" if i != list(df.keys())[-1] else \"\")"
   ]
  },
  {
   "cell_type": "code",
   "execution_count": 4,
   "id": "f279b169-4bf0-40b2-84d5-d0ddab28c3f7",
   "metadata": {
    "tags": []
   },
   "outputs": [],
   "source": [
    "for i in df:\n",
    "    for j in df[i]:\n",
    "        j != \"Datetime\" and j != \"Date\" and df[i][j].interpolate(method = 'linear', inplace = True)\n",
    "df[\"Interday_data\"].dropna(axis = 1, inplace = True)"
   ]
  },
  {
   "cell_type": "code",
   "execution_count": 5,
   "id": "f85dd385-9504-422d-ae43-833d9b2db65c",
   "metadata": {
    "tags": []
   },
   "outputs": [
    {
     "name": "stdout",
     "output_type": "stream",
     "text": [
      "Intraday_data\n",
      "Datetime         0\n",
      "HSI_Price        0\n",
      "Date             0\n",
      "Time             0\n",
      "9:30 - 9:59      0\n",
      "10:00 - 10:29    0\n",
      "10:30 - 10:59    0\n",
      "11:00 - 11:29    0\n",
      "11:30 - 11:59    0\n",
      "13:00 - 13:29    0\n",
      "13:30 - 13:59    0\n",
      "14:00 - 14:29    0\n",
      "14:30 - 14:59    0\n",
      "15:00 - 15:29    0\n",
      "15:30 - 15:59    0\n",
      "dtype: int64\n",
      "==============================\n",
      "Interday_data\n",
      "Date     0\n",
      "Price    0\n",
      "dtype: int64"
     ]
    }
   ],
   "source": [
    "for i in df:\n",
    "    print(i, df[i].isna().sum(), sep='\\n', end = \"\\n\"+\"=\"*30+\"\\n\" if i != list(df.keys())[-1] else \"\")"
   ]
  },
  {
   "cell_type": "markdown",
   "id": "dd2ed7b4-5814-4976-af39-a92941ac83d6",
   "metadata": {
    "tags": []
   },
   "source": [
    "# Interday_data"
   ]
  },
  {
   "cell_type": "markdown",
   "id": "ed710a7d-84f5-418e-9eb9-1e68080098a4",
   "metadata": {},
   "source": [
    "## Detrend"
   ]
  },
  {
   "cell_type": "code",
   "execution_count": 6,
   "id": "ff898c89-7754-42f7-bdab-10623fe4473f",
   "metadata": {},
   "outputs": [],
   "source": [
    "df1 = df[\"Interday_data\"]\n",
    "df1.index = pd.to_datetime(df1.Date)"
   ]
  },
  {
   "cell_type": "code",
   "execution_count": 7,
   "id": "7254fa5b-14f1-4132-9ca6-4c01339eca96",
   "metadata": {},
   "outputs": [
    {
     "data": {
      "text/html": [
       "<div>\n",
       "<style scoped>\n",
       "    .dataframe tbody tr th:only-of-type {\n",
       "        vertical-align: middle;\n",
       "    }\n",
       "\n",
       "    .dataframe tbody tr th {\n",
       "        vertical-align: top;\n",
       "    }\n",
       "\n",
       "    .dataframe thead th {\n",
       "        text-align: right;\n",
       "    }\n",
       "</style>\n",
       "<table border=\"1\" class=\"dataframe\">\n",
       "  <thead>\n",
       "    <tr style=\"text-align: right;\">\n",
       "      <th></th>\n",
       "      <th>Date</th>\n",
       "      <th>Price</th>\n",
       "    </tr>\n",
       "    <tr>\n",
       "      <th>Date</th>\n",
       "      <th></th>\n",
       "      <th></th>\n",
       "    </tr>\n",
       "  </thead>\n",
       "  <tbody>\n",
       "    <tr>\n",
       "      <th>1987-01-02</th>\n",
       "      <td>1987-01-02</td>\n",
       "      <td>2540.100098</td>\n",
       "    </tr>\n",
       "    <tr>\n",
       "      <th>1987-01-05</th>\n",
       "      <td>1987-01-05</td>\n",
       "      <td>2552.399902</td>\n",
       "    </tr>\n",
       "    <tr>\n",
       "      <th>1987-01-06</th>\n",
       "      <td>1987-01-06</td>\n",
       "      <td>2583.899902</td>\n",
       "    </tr>\n",
       "    <tr>\n",
       "      <th>1987-01-07</th>\n",
       "      <td>1987-01-07</td>\n",
       "      <td>2607.100098</td>\n",
       "    </tr>\n",
       "    <tr>\n",
       "      <th>1987-01-08</th>\n",
       "      <td>1987-01-08</td>\n",
       "      <td>2603.300049</td>\n",
       "    </tr>\n",
       "    <tr>\n",
       "      <th>...</th>\n",
       "      <td>...</td>\n",
       "      <td>...</td>\n",
       "    </tr>\n",
       "    <tr>\n",
       "      <th>2023-02-06</th>\n",
       "      <td>2023-02-06</td>\n",
       "      <td>21222.160156</td>\n",
       "    </tr>\n",
       "    <tr>\n",
       "      <th>2023-02-07</th>\n",
       "      <td>2023-02-07</td>\n",
       "      <td>21298.699219</td>\n",
       "    </tr>\n",
       "    <tr>\n",
       "      <th>2023-02-08</th>\n",
       "      <td>2023-02-08</td>\n",
       "      <td>21283.519531</td>\n",
       "    </tr>\n",
       "    <tr>\n",
       "      <th>2023-02-09</th>\n",
       "      <td>2023-02-09</td>\n",
       "      <td>21624.359375</td>\n",
       "    </tr>\n",
       "    <tr>\n",
       "      <th>2023-02-10</th>\n",
       "      <td>2023-02-10</td>\n",
       "      <td>21190.419922</td>\n",
       "    </tr>\n",
       "  </tbody>\n",
       "</table>\n",
       "<p>9167 rows × 2 columns</p>\n",
       "</div>"
      ],
      "text/plain": [
       "                 Date         Price\n",
       "Date                               \n",
       "1987-01-02 1987-01-02   2540.100098\n",
       "1987-01-05 1987-01-05   2552.399902\n",
       "1987-01-06 1987-01-06   2583.899902\n",
       "1987-01-07 1987-01-07   2607.100098\n",
       "1987-01-08 1987-01-08   2603.300049\n",
       "...               ...           ...\n",
       "2023-02-06 2023-02-06  21222.160156\n",
       "2023-02-07 2023-02-07  21298.699219\n",
       "2023-02-08 2023-02-08  21283.519531\n",
       "2023-02-09 2023-02-09  21624.359375\n",
       "2023-02-10 2023-02-10  21190.419922\n",
       "\n",
       "[9167 rows x 2 columns]"
      ]
     },
     "execution_count": 7,
     "metadata": {},
     "output_type": "execute_result"
    }
   ],
   "source": [
    "df1"
   ]
  },
  {
   "cell_type": "code",
   "execution_count": 8,
   "id": "b45773b1-6255-4d99-a6d3-3d1db98c87d0",
   "metadata": {},
   "outputs": [
    {
     "data": {
      "text/plain": [
       "<Axes: xlabel='Date'>"
      ]
     },
     "execution_count": 8,
     "metadata": {},
     "output_type": "execute_result"
    },
    {
     "data": {
      "image/png": "[encoded data removed]",
      "text/plain": [
       "<Figure size 1000x500 with 1 Axes>"
      ]
     },
     "metadata": {},
     "output_type": "display_data"
    }
   ],
   "source": [
    "df1.plot(figsize = [10, 5], x = 'Date', y = 'Price')"
   ]
  },
  {
   "cell_type": "code",
   "execution_count": 9,
   "id": "6ef7d6c4-2477-42c9-b5ef-114117d6754c",
   "metadata": {},
   "outputs": [],
   "source": [
    "from scipy import signal\n",
    "df1_detrended = signal.detrend(df1.Price)\n",
    "df1_detrended = pd.DataFrame(df1_detrended, index = df1.index, columns = [df1.columns[1]])"
   ]
  },
  {
   "cell_type": "code",
   "execution_count": 10,
   "id": "61e73a33-fdad-418b-9eb6-57b16c9131ec",
   "metadata": {},
   "outputs": [
    {
     "data": {
      "text/html": [
       "<div>\n",
       "<style scoped>\n",
       "    .dataframe tbody tr th:only-of-type {\n",
       "        vertical-align: middle;\n",
       "    }\n",
       "\n",
       "    .dataframe tbody tr th {\n",
       "        vertical-align: top;\n",
       "    }\n",
       "\n",
       "    .dataframe thead th {\n",
       "        text-align: right;\n",
       "    }\n",
       "</style>\n",
       "<table border=\"1\" class=\"dataframe\">\n",
       "  <thead>\n",
       "    <tr style=\"text-align: right;\">\n",
       "      <th></th>\n",
       "      <th>Price</th>\n",
       "    </tr>\n",
       "    <tr>\n",
       "      <th>Date</th>\n",
       "      <th></th>\n",
       "    </tr>\n",
       "  </thead>\n",
       "  <tbody>\n",
       "    <tr>\n",
       "      <th>1987-01-02</th>\n",
       "      <td>210.999739</td>\n",
       "    </tr>\n",
       "    <tr>\n",
       "      <th>1987-01-05</th>\n",
       "      <td>220.454116</td>\n",
       "    </tr>\n",
       "    <tr>\n",
       "      <th>1987-01-06</th>\n",
       "      <td>249.108688</td>\n",
       "    </tr>\n",
       "    <tr>\n",
       "      <th>1987-01-07</th>\n",
       "      <td>269.463457</td>\n",
       "    </tr>\n",
       "    <tr>\n",
       "      <th>1987-01-08</th>\n",
       "      <td>262.817980</td>\n",
       "    </tr>\n",
       "    <tr>\n",
       "      <th>...</th>\n",
       "      <td>...</td>\n",
       "    </tr>\n",
       "    <tr>\n",
       "      <th>2023-02-06</th>\n",
       "      <td>-7176.747417</td>\n",
       "    </tr>\n",
       "    <tr>\n",
       "      <th>2023-02-07</th>\n",
       "      <td>-7103.053782</td>\n",
       "    </tr>\n",
       "    <tr>\n",
       "      <th>2023-02-08</th>\n",
       "      <td>-7121.078897</td>\n",
       "    </tr>\n",
       "    <tr>\n",
       "      <th>2023-02-09</th>\n",
       "      <td>-6783.084481</td>\n",
       "    </tr>\n",
       "    <tr>\n",
       "      <th>2023-02-10</th>\n",
       "      <td>-7219.869361</td>\n",
       "    </tr>\n",
       "  </tbody>\n",
       "</table>\n",
       "<p>9167 rows × 1 columns</p>\n",
       "</div>"
      ],
      "text/plain": [
       "                  Price\n",
       "Date                   \n",
       "1987-01-02   210.999739\n",
       "1987-01-05   220.454116\n",
       "1987-01-06   249.108688\n",
       "1987-01-07   269.463457\n",
       "1987-01-08   262.817980\n",
       "...                 ...\n",
       "2023-02-06 -7176.747417\n",
       "2023-02-07 -7103.053782\n",
       "2023-02-08 -7121.078897\n",
       "2023-02-09 -6783.084481\n",
       "2023-02-10 -7219.869361\n",
       "\n",
       "[9167 rows x 1 columns]"
      ]
     },
     "execution_count": 10,
     "metadata": {},
     "output_type": "execute_result"
    }
   ],
   "source": [
    "df1_detrended"
   ]
  },
  {
   "cell_type": "code",
   "execution_count": 11,
   "id": "8232086a-e43a-4fae-b3fa-237eb5c06dab",
   "metadata": {},
   "outputs": [
    {
     "data": {
      "image/png": "[encoded data removed]",
      "text/plain": [
       "<Figure size 1000x500 with 1 Axes>"
      ]
     },
     "metadata": {},
     "output_type": "display_data"
    }
   ],
   "source": [
    "from matplotlib import pyplot as plt\n",
    "plt.figure(figsize=(10, 5))\n",
    "plt.plot(df1_detrended.index, df1_detrended[\"Price\"], label=\"Price detrended\")\n",
    "plt.legend(loc='best')\n",
    "plt.show()"
   ]
  },
  {
   "cell_type": "markdown",
   "id": "cc275956-546f-4aa3-a083-38fb420652bc",
   "metadata": {},
   "source": [
    "## 1-hot encoding"
   ]
  },
  {
   "cell_type": "code",
   "execution_count": 12,
   "id": "ea2143fa-ae19-4adf-acb8-26a284727da1",
   "metadata": {},
   "outputs": [],
   "source": [
    "day_of_week = df1.index.dayofweek\n",
    "month_of_year = df1.index.month"
   ]
  },
  {
   "cell_type": "code",
   "execution_count": 13,
   "id": "cdb82d79-e154-4153-a8d8-4e8321679bba",
   "metadata": {},
   "outputs": [],
   "source": [
    "day_of_week_dummies = pd.get_dummies(day_of_week, prefix=\"day\")\n",
    "month_of_year_dummies = pd.get_dummies(month_of_year, prefix=\"month\")"
   ]
  },
  {
   "cell_type": "code",
   "execution_count": 14,
   "id": "ec260811-bc09-4e71-a765-45ffa4f4b69d",
   "metadata": {},
   "outputs": [
    {
     "data": {
      "text/html": [
       "<div>\n",
       "<style scoped>\n",
       "    .dataframe tbody tr th:only-of-type {\n",
       "        vertical-align: middle;\n",
       "    }\n",
       "\n",
       "    .dataframe tbody tr th {\n",
       "        vertical-align: top;\n",
       "    }\n",
       "\n",
       "    .dataframe thead th {\n",
       "        text-align: right;\n",
       "    }\n",
       "</style>\n",
       "<table border=\"1\" class=\"dataframe\">\n",
       "  <thead>\n",
       "    <tr style=\"text-align: right;\">\n",
       "      <th></th>\n",
       "      <th>day_0</th>\n",
       "      <th>day_1</th>\n",
       "      <th>day_2</th>\n",
       "      <th>day_3</th>\n",
       "      <th>day_4</th>\n",
       "      <th>day_5</th>\n",
       "    </tr>\n",
       "  </thead>\n",
       "  <tbody>\n",
       "    <tr>\n",
       "      <th>0</th>\n",
       "      <td>0</td>\n",
       "      <td>0</td>\n",
       "      <td>0</td>\n",
       "      <td>0</td>\n",
       "      <td>1</td>\n",
       "      <td>0</td>\n",
       "    </tr>\n",
       "    <tr>\n",
       "      <th>1</th>\n",
       "      <td>1</td>\n",
       "      <td>0</td>\n",
       "      <td>0</td>\n",
       "      <td>0</td>\n",
       "      <td>0</td>\n",
       "      <td>0</td>\n",
       "    </tr>\n",
       "    <tr>\n",
       "      <th>2</th>\n",
       "      <td>0</td>\n",
       "      <td>1</td>\n",
       "      <td>0</td>\n",
       "      <td>0</td>\n",
       "      <td>0</td>\n",
       "      <td>0</td>\n",
       "    </tr>\n",
       "    <tr>\n",
       "      <th>3</th>\n",
       "      <td>0</td>\n",
       "      <td>0</td>\n",
       "      <td>1</td>\n",
       "      <td>0</td>\n",
       "      <td>0</td>\n",
       "      <td>0</td>\n",
       "    </tr>\n",
       "    <tr>\n",
       "      <th>4</th>\n",
       "      <td>0</td>\n",
       "      <td>0</td>\n",
       "      <td>0</td>\n",
       "      <td>1</td>\n",
       "      <td>0</td>\n",
       "      <td>0</td>\n",
       "    </tr>\n",
       "  </tbody>\n",
       "</table>\n",
       "</div>"
      ],
      "text/plain": [
       "   day_0  day_1  day_2  day_3  day_4  day_5\n",
       "0      0      0      0      0      1      0\n",
       "1      1      0      0      0      0      0\n",
       "2      0      1      0      0      0      0\n",
       "3      0      0      1      0      0      0\n",
       "4      0      0      0      1      0      0"
      ]
     },
     "execution_count": 14,
     "metadata": {},
     "output_type": "execute_result"
    }
   ],
   "source": [
    "day_of_week_dummies.head() # day_0: Mon, day_1: Tue, ..., day_5: Sat"
   ]
  },
  {
   "cell_type": "code",
   "execution_count": 15,
   "id": "547272c5-0d0e-4ca6-98da-9122497d119a",
   "metadata": {},
   "outputs": [
    {
     "data": {
      "text/html": [
       "<div>\n",
       "<style scoped>\n",
       "    .dataframe tbody tr th:only-of-type {\n",
       "        vertical-align: middle;\n",
       "    }\n",
       "\n",
       "    .dataframe tbody tr th {\n",
       "        vertical-align: top;\n",
       "    }\n",
       "\n",
       "    .dataframe thead th {\n",
       "        text-align: right;\n",
       "    }\n",
       "</style>\n",
       "<table border=\"1\" class=\"dataframe\">\n",
       "  <thead>\n",
       "    <tr style=\"text-align: right;\">\n",
       "      <th></th>\n",
       "      <th>month_1</th>\n",
       "      <th>month_2</th>\n",
       "      <th>month_3</th>\n",
       "      <th>month_4</th>\n",
       "      <th>month_5</th>\n",
       "      <th>month_6</th>\n",
       "      <th>month_7</th>\n",
       "      <th>month_8</th>\n",
       "      <th>month_9</th>\n",
       "      <th>month_10</th>\n",
       "      <th>month_11</th>\n",
       "      <th>month_12</th>\n",
       "    </tr>\n",
       "  </thead>\n",
       "  <tbody>\n",
       "    <tr>\n",
       "      <th>0</th>\n",
       "      <td>1</td>\n",
       "      <td>0</td>\n",
       "      <td>0</td>\n",
       "      <td>0</td>\n",
       "      <td>0</td>\n",
       "      <td>0</td>\n",
       "      <td>0</td>\n",
       "      <td>0</td>\n",
       "      <td>0</td>\n",
       "      <td>0</td>\n",
       "      <td>0</td>\n",
       "      <td>0</td>\n",
       "    </tr>\n",
       "    <tr>\n",
       "      <th>1</th>\n",
       "      <td>1</td>\n",
       "      <td>0</td>\n",
       "      <td>0</td>\n",
       "      <td>0</td>\n",
       "      <td>0</td>\n",
       "      <td>0</td>\n",
       "      <td>0</td>\n",
       "      <td>0</td>\n",
       "      <td>0</td>\n",
       "      <td>0</td>\n",
       "      <td>0</td>\n",
       "      <td>0</td>\n",
       "    </tr>\n",
       "    <tr>\n",
       "      <th>2</th>\n",
       "      <td>1</td>\n",
       "      <td>0</td>\n",
       "      <td>0</td>\n",
       "      <td>0</td>\n",
       "      <td>0</td>\n",
       "      <td>0</td>\n",
       "      <td>0</td>\n",
       "      <td>0</td>\n",
       "      <td>0</td>\n",
       "      <td>0</td>\n",
       "      <td>0</td>\n",
       "      <td>0</td>\n",
       "    </tr>\n",
       "    <tr>\n",
       "      <th>3</th>\n",
       "      <td>1</td>\n",
       "      <td>0</td>\n",
       "      <td>0</td>\n",
       "      <td>0</td>\n",
       "      <td>0</td>\n",
       "      <td>0</td>\n",
       "      <td>0</td>\n",
       "      <td>0</td>\n",
       "      <td>0</td>\n",
       "      <td>0</td>\n",
       "      <td>0</td>\n",
       "      <td>0</td>\n",
       "    </tr>\n",
       "    <tr>\n",
       "      <th>4</th>\n",
       "      <td>1</td>\n",
       "      <td>0</td>\n",
       "      <td>0</td>\n",
       "      <td>0</td>\n",
       "      <td>0</td>\n",
       "      <td>0</td>\n",
       "      <td>0</td>\n",
       "      <td>0</td>\n",
       "      <td>0</td>\n",
       "      <td>0</td>\n",
       "      <td>0</td>\n",
       "      <td>0</td>\n",
       "    </tr>\n",
       "    <tr>\n",
       "      <th>...</th>\n",
       "      <td>...</td>\n",
       "      <td>...</td>\n",
       "      <td>...</td>\n",
       "      <td>...</td>\n",
       "      <td>...</td>\n",
       "      <td>...</td>\n",
       "      <td>...</td>\n",
       "      <td>...</td>\n",
       "      <td>...</td>\n",
       "      <td>...</td>\n",
       "      <td>...</td>\n",
       "      <td>...</td>\n",
       "    </tr>\n",
       "    <tr>\n",
       "      <th>9162</th>\n",
       "      <td>0</td>\n",
       "      <td>1</td>\n",
       "      <td>0</td>\n",
       "      <td>0</td>\n",
       "      <td>0</td>\n",
       "      <td>0</td>\n",
       "      <td>0</td>\n",
       "      <td>0</td>\n",
       "      <td>0</td>\n",
       "      <td>0</td>\n",
       "      <td>0</td>\n",
       "      <td>0</td>\n",
       "    </tr>\n",
       "    <tr>\n",
       "      <th>9163</th>\n",
       "      <td>0</td>\n",
       "      <td>1</td>\n",
       "      <td>0</td>\n",
       "      <td>0</td>\n",
       "      <td>0</td>\n",
       "      <td>0</td>\n",
       "      <td>0</td>\n",
       "      <td>0</td>\n",
       "      <td>0</td>\n",
       "      <td>0</td>\n",
       "      <td>0</td>\n",
       "      <td>0</td>\n",
       "    </tr>\n",
       "    <tr>\n",
       "      <th>9164</th>\n",
       "      <td>0</td>\n",
       "      <td>1</td>\n",
       "      <td>0</td>\n",
       "      <td>0</td>\n",
       "      <td>0</td>\n",
       "      <td>0</td>\n",
       "      <td>0</td>\n",
       "      <td>0</td>\n",
       "      <td>0</td>\n",
       "      <td>0</td>\n",
       "      <td>0</td>\n",
       "      <td>0</td>\n",
       "    </tr>\n",
       "    <tr>\n",
       "      <th>9165</th>\n",
       "      <td>0</td>\n",
       "      <td>1</td>\n",
       "      <td>0</td>\n",
       "      <td>0</td>\n",
       "      <td>0</td>\n",
       "      <td>0</td>\n",
       "      <td>0</td>\n",
       "      <td>0</td>\n",
       "      <td>0</td>\n",
       "      <td>0</td>\n",
       "      <td>0</td>\n",
       "      <td>0</td>\n",
       "    </tr>\n",
       "    <tr>\n",
       "      <th>9166</th>\n",
       "      <td>0</td>\n",
       "      <td>1</td>\n",
       "      <td>0</td>\n",
       "      <td>0</td>\n",
       "      <td>0</td>\n",
       "      <td>0</td>\n",
       "      <td>0</td>\n",
       "      <td>0</td>\n",
       "      <td>0</td>\n",
       "      <td>0</td>\n",
       "      <td>0</td>\n",
       "      <td>0</td>\n",
       "    </tr>\n",
       "  </tbody>\n",
       "</table>\n",
       "<p>9167 rows × 12 columns</p>\n",
       "</div>"
      ],
      "text/plain": [
       "      month_1  month_2  month_3  month_4  month_5  month_6  month_7  month_8  \\\n",
       "0           1        0        0        0        0        0        0        0   \n",
       "1           1        0        0        0        0        0        0        0   \n",
       "2           1        0        0        0        0        0        0        0   \n",
       "3           1        0        0        0        0        0        0        0   \n",
       "4           1        0        0        0        0        0        0        0   \n",
       "...       ...      ...      ...      ...      ...      ...      ...      ...   \n",
       "9162        0        1        0        0        0        0        0        0   \n",
       "9163        0        1        0        0        0        0        0        0   \n",
       "9164        0        1        0        0        0        0        0        0   \n",
       "9165        0        1        0        0        0        0        0        0   \n",
       "9166        0        1        0        0        0        0        0        0   \n",
       "\n",
       "      month_9  month_10  month_11  month_12  \n",
       "0           0         0         0         0  \n",
       "1           0         0         0         0  \n",
       "2           0         0         0         0  \n",
       "3           0         0         0         0  \n",
       "4           0         0         0         0  \n",
       "...       ...       ...       ...       ...  \n",
       "9162        0         0         0         0  \n",
       "9163        0         0         0         0  \n",
       "9164        0         0         0         0  \n",
       "9165        0         0         0         0  \n",
       "9166        0         0         0         0  \n",
       "\n",
       "[9167 rows x 12 columns]"
      ]
     },
     "metadata": {},
     "output_type": "display_data"
    }
   ],
   "source": [
    "display(month_of_year_dummies)"
   ]
  },
  {
   "cell_type": "code",
   "execution_count": 16,
   "id": "58cc7183-4d0f-4aee-801e-9b58f29655c2",
   "metadata": {},
   "outputs": [],
   "source": [
    "X = pd.concat([day_of_week_dummies, month_of_year_dummies], axis=1)\n",
    "y = df1_detrended"
   ]
  },
  {
   "cell_type": "code",
   "execution_count": 17,
   "id": "c026243e-fd85-4d68-83af-a6160ea12edf",
   "metadata": {},
   "outputs": [],
   "source": [
    "modelA = smf.ols(formula=\"Price ~ C(day_of_week, Treatment(reference = 5)) + C(month_of_year)\", data = df1).fit()"
   ]
  },
  {
   "cell_type": "code",
   "execution_count": 18,
   "id": "5bbd1557-2ff8-4698-a694-19e07908dfe9",
   "metadata": {},
   "outputs": [
    {
     "name": "stdout",
     "output_type": "stream",
     "text": [
      "                            OLS Regression Results                            \n",
      "==============================================================================\n",
      "Dep. Variable:                  Price   R-squared:                       0.001\n",
      "Model:                            OLS   Adj. R-squared:                 -0.001\n",
      "Method:                 Least Squares   F-statistic:                    0.2944\n",
      "Date:                Sun, 12 Mar 2023   Prob (F-statistic):              0.997\n",
      "Time:                        13:30:24   Log-Likelihood:                -95508.\n",
      "No. Observations:                9167   AIC:                         1.911e+05\n",
      "Df Residuals:                    9150   BIC:                         1.912e+05\n",
      "Df Model:                          16                                         \n",
      "Covariance Type:            nonrobust                                         \n",
      "===============================================================================================================\n",
      "                                                  coef    std err          t      P>|t|      [0.025      0.975]\n",
      "---------------------------------------------------------------------------------------------------------------\n",
      "Intercept                                    1.857e+04   5748.431      3.231      0.001    7304.514    2.98e+04\n",
      "C(day_of_week, Treatment(reference=5))[T.0] -3259.0758   5743.700     -0.567      0.570   -1.45e+04    7999.859\n",
      "C(day_of_week, Treatment(reference=5))[T.1] -3142.9634   5743.667     -0.547      0.584   -1.44e+04    8115.907\n",
      "C(day_of_week, Treatment(reference=5))[T.2] -3069.4181   5743.618     -0.534      0.593   -1.43e+04    8189.355\n",
      "C(day_of_week, Treatment(reference=5))[T.3] -3066.3020   5743.591     -0.534      0.593   -1.43e+04    8192.419\n",
      "C(day_of_week, Treatment(reference=5))[T.4] -3148.9709   5743.627     -0.548      0.584   -1.44e+04    8109.820\n",
      "C(month_of_year)[T.2]                        -140.2300    420.897     -0.333      0.739    -965.282     684.822\n",
      "C(month_of_year)[T.3]                        -220.7104    408.644     -0.540      0.589   -1021.744     580.323\n",
      "C(month_of_year)[T.4]                        -309.2158    417.379     -0.741      0.459   -1127.373     508.941\n",
      "C(month_of_year)[T.5]                        -162.6981    412.227     -0.395      0.693    -970.755     645.359\n",
      "C(month_of_year)[T.6]                         -27.7396    412.503     -0.067      0.946    -836.337     780.858\n",
      "C(month_of_year)[T.7]                          71.0678    409.943      0.173      0.862    -732.512     874.648\n",
      "C(month_of_year)[T.8]                         124.0620    407.622      0.304      0.761    -674.968     923.092\n",
      "C(month_of_year)[T.9]                        -135.5149    412.916     -0.328      0.743    -944.923     673.893\n",
      "C(month_of_year)[T.10]                       -306.5813    412.639     -0.743      0.458   -1115.446     502.283\n",
      "C(month_of_year)[T.11]                        229.4377    410.876      0.558      0.577    -575.971    1034.846\n",
      "C(month_of_year)[T.12]                         42.1868    411.817      0.102      0.918    -765.066     849.440\n",
      "==============================================================================\n",
      "Omnibus:                     4780.979   Durbin-Watson:                   0.001\n",
      "Prob(Omnibus):                  0.000   Jarque-Bera (JB):              493.200\n",
      "Skew:                           0.006   Prob(JB):                    8.00e-108\n",
      "Kurtosis:                       1.864   Cond. No.                         188.\n",
      "==============================================================================\n",
      "\n",
      "Notes:\n",
      "[1] Standard Errors assume that the covariance matrix of the errors is correctly specified.\n"
     ]
    }
   ],
   "source": [
    "print(modelA.summary())"
   ]
  },
  {
   "cell_type": "code",
   "execution_count": 19,
   "id": "38cffb32-09ad-4709-89db-75b9d91ae57f",
   "metadata": {},
   "outputs": [
    {
     "data": {
      "text/plain": [
       "0.0005146180986187465"
      ]
     },
     "execution_count": 19,
     "metadata": {},
     "output_type": "execute_result"
    }
   ],
   "source": [
    "modelA.rsquared"
   ]
  },
  {
   "cell_type": "code",
   "execution_count": 20,
   "id": "ba66a465-1b31-4c5d-a6a5-40c658127107",
   "metadata": {},
   "outputs": [
    {
     "data": {
      "text/plain": [
       "Intercept                                      18572.723365\n",
       "C(day_of_week, Treatment(reference=5))[T.0]    -3259.075802\n",
       "C(day_of_week, Treatment(reference=5))[T.1]    -3142.963362\n",
       "C(day_of_week, Treatment(reference=5))[T.2]    -3069.418088\n",
       "C(day_of_week, Treatment(reference=5))[T.3]    -3066.302042\n",
       "C(day_of_week, Treatment(reference=5))[T.4]    -3148.970909\n",
       "C(month_of_year)[T.2]                           -140.229967\n",
       "C(month_of_year)[T.3]                           -220.710445\n",
       "C(month_of_year)[T.4]                           -309.215773\n",
       "C(month_of_year)[T.5]                           -162.698112\n",
       "C(month_of_year)[T.6]                            -27.739602\n",
       "C(month_of_year)[T.7]                             71.067816\n",
       "C(month_of_year)[T.8]                            124.062011\n",
       "C(month_of_year)[T.9]                           -135.514917\n",
       "C(month_of_year)[T.10]                          -306.581303\n",
       "C(month_of_year)[T.11]                           229.437698\n",
       "C(month_of_year)[T.12]                            42.186792\n",
       "dtype: float64"
      ]
     },
     "execution_count": 20,
     "metadata": {},
     "output_type": "execute_result"
    }
   ],
   "source": [
    "modelA.params # T.5 (Sat) is not included because the stock market would be normally closed on Saturdays"
   ]
  },
  {
   "cell_type": "code",
   "execution_count": 21,
   "id": "226bd0c9-2ed3-4cd5-a6dd-fb474c29068c",
   "metadata": {},
   "outputs": [],
   "source": [
    "# Calculate sell-to-buy ratio for day of the week\n",
    "buy_mean = df1.groupby(df1.index.dayofweek)['Price'].mean().min()\n",
    "sell_mean = df1.groupby(df1.index.dayofweek)['Price'].mean().max()\n",
    "\n",
    "s2b_day_ratio = sell_mean / buy_mean\n",
    "\n",
    "# Calculate sell-to-buy ratio for month of the year\n",
    "buy_mean = df1.groupby(df1.index.month)['Price'].mean().min()\n",
    "sell_mean = df1.groupby(df1.index.month)['Price'].mean().max()\n",
    "\n",
    "s2b_month_ratio = sell_mean / buy_mean\n"
   ]
  },
  {
   "cell_type": "code",
   "execution_count": 22,
   "id": "87b83be2-e467-4169-a2f1-d33ccb2f02fb",
   "metadata": {},
   "outputs": [
    {
     "data": {
      "text/plain": [
       "1.2208"
      ]
     },
     "execution_count": 22,
     "metadata": {},
     "output_type": "execute_result"
    }
   ],
   "source": [
    "round(s2b_day_ratio, 4)"
   ]
  },
  {
   "cell_type": "code",
   "execution_count": 23,
   "id": "2c81c531-797e-4bcf-ab7f-dc7df1e6114d",
   "metadata": {},
   "outputs": [
    {
     "data": {
      "text/plain": [
       "1.0354"
      ]
     },
     "execution_count": 23,
     "metadata": {},
     "output_type": "execute_result"
    }
   ],
   "source": [
    "round(s2b_month_ratio, 4)"
   ]
  },
  {
   "cell_type": "markdown",
   "id": "d01772a5-27da-4832-8f3f-188fdfcf1988",
   "metadata": {},
   "source": [
    "## Optional method"
   ]
  },
  {
   "cell_type": "code",
   "execution_count": 24,
   "id": "8f9f9e67-56f5-4226-a409-ae2ccf57ceef",
   "metadata": {},
   "outputs": [],
   "source": [
    "effect_by_day = modelA.params[1:6]\n",
    "effect_by_month = modelA.params[6:]"
   ]
  },
  {
   "cell_type": "code",
   "execution_count": 25,
   "id": "33c57c50-d40e-4b0b-8497-874c517ab106",
   "metadata": {},
   "outputs": [],
   "source": [
    "q1 = 0.25\n",
    "q2 = 0.75"
   ]
  },
  {
   "cell_type": "code",
   "execution_count": 26,
   "id": "21fbc871-97f2-4bc6-9106-77d291e7a167",
   "metadata": {},
   "outputs": [],
   "source": [
    "formula = \"Price ~ C(day_of_week, Treatment(reference = 5)) + C(month_of_year)\"\n",
    "model = smf.quantreg(formula, df1)"
   ]
  },
  {
   "cell_type": "code",
   "execution_count": 27,
   "id": "c14997e8-b6e8-4ae8-917f-15eaa3e35f55",
   "metadata": {},
   "outputs": [],
   "source": [
    "results = pd.DataFrame(columns=[\"quantile\", \"day\", \"month\", \"price\"])"
   ]
  },
  {
   "cell_type": "code",
   "execution_count": 28,
   "id": "ee251592-b9b7-4377-a671-12ced7bb0b42",
   "metadata": {},
   "outputs": [
    {
     "name": "stderr",
     "output_type": "stream",
     "text": [
      "/var/folders/j0/5r4rz32s725cs8d72phm110m0000gn/T/ipykernel_63316/1142637781.py:11: FutureWarning: The frame.append method is deprecated and will be removed from pandas in a future version. Use pandas.concat instead.\n",
      "  results = results.append({\"quantile\": q, \"day\": day, \"month\": month, \"price\": coef_d[day]}, ignore_index=True)\n",
      "/var/folders/j0/5r4rz32s725cs8d72phm110m0000gn/T/ipykernel_63316/1142637781.py:11: FutureWarning: The frame.append method is deprecated and will be removed from pandas in a future version. Use pandas.concat instead.\n",
      "  results = results.append({\"quantile\": q, \"day\": day, \"month\": month, \"price\": coef_d[day]}, ignore_index=True)\n"
     ]
    }
   ],
   "source": [
    "for q in [q1, q2]:\n",
    "    # Fit the quantile regression model\n",
    "    quantile_model = model.fit(q=q)\n",
    "\n",
    "    coef_d = quantile_model.params[1:6]\n",
    "    coef_m = quantile_model.params[6:]\n",
    "    day = coef_d.index[coef_d == coef_d.min() if q == q1 else coef_d == coef_d.max()][0]\n",
    "    month = coef_m.index[coef_m == coef_m.min() if q == q1 else coef_m == coef_m.max()][0]\n",
    "\n",
    "    # Add the results to the DataFrame\n",
    "    results = results.append({\"quantile\": q, \"day\": day, \"month\": month, \"price\": coef_d[day]}, ignore_index=True)\n"
   ]
  },
  {
   "cell_type": "code",
   "execution_count": 29,
   "id": "0bb3de29-b01c-4747-acce-4cda193bcf19",
   "metadata": {},
   "outputs": [
    {
     "name": "stdout",
     "output_type": "stream",
     "text": [
      "                         QuantReg Regression Results                          \n",
      "==============================================================================\n",
      "Dep. Variable:                  Price   Pseudo R-squared:             0.001696\n",
      "Model:                       QuantReg   Bandwidth:                       1645.\n",
      "Method:                 Least Squares   Sparsity:                    2.025e+04\n",
      "Date:                Sun, 12 Mar 2023   No. Observations:                 9167\n",
      "Time:                        13:30:25   Df Residuals:                     9150\n",
      "                                        Df Model:                           16\n",
      "===============================================================================================================\n",
      "                                                  coef    std err          t      P>|t|      [0.025      0.975]\n",
      "---------------------------------------------------------------------------------------------------------------\n",
      "Intercept                                    1.809e+04   8016.449      2.256      0.024    2371.871    3.38e+04\n",
      "C(day_of_week, Treatment(reference=5))[T.0] -8685.5000   8012.495     -1.084      0.278   -2.44e+04    7020.779\n",
      "C(day_of_week, Treatment(reference=5))[T.1] -8670.4893   8012.450     -1.082      0.279   -2.44e+04    7035.701\n",
      "C(day_of_week, Treatment(reference=5))[T.2] -8628.6201   8012.446     -1.077      0.282   -2.43e+04    7077.563\n",
      "C(day_of_week, Treatment(reference=5))[T.3] -8646.7998   8012.393     -1.079      0.281   -2.44e+04    7059.280\n",
      "C(day_of_week, Treatment(reference=5))[T.4] -8652.8897   8012.413     -1.080      0.280   -2.44e+04    7053.230\n",
      "C(month_of_year)[T.2]                        -179.1521    455.038     -0.394      0.694   -1071.129     712.824\n",
      "C(month_of_year)[T.3]                        -300.7109    441.972     -0.680      0.496   -1167.074     565.652\n",
      "C(month_of_year)[T.4]                        -777.1006    451.342     -1.722      0.085   -1661.832     107.631\n",
      "C(month_of_year)[T.5]                        -313.0303    445.755     -0.702      0.483   -1186.811     560.750\n",
      "C(month_of_year)[T.6]                        -278.6777    445.853     -0.625      0.532   -1152.648     595.293\n",
      "C(month_of_year)[T.7]                        -225.8008    443.189     -0.509      0.610   -1094.550     642.949\n",
      "C(month_of_year)[T.8]                         -59.4004    440.855     -0.135      0.893    -923.575     804.774\n",
      "C(month_of_year)[T.9]                         -85.5303    446.599     -0.192      0.848    -960.964     789.904\n",
      "C(month_of_year)[T.10]                          1.8594    446.102      0.004      0.997    -872.600     876.319\n",
      "C(month_of_year)[T.11]                        268.2891    444.483      0.604      0.546    -602.996    1139.575\n",
      "C(month_of_year)[T.12]                        488.0195    445.408      1.096      0.273    -385.079    1361.118\n",
      "===============================================================================================================\n",
      "                         QuantReg Regression Results                          \n",
      "==============================================================================\n",
      "Dep. Variable:                  Price   Pseudo R-squared:             0.002190\n",
      "Model:                       QuantReg   Bandwidth:                       1645.\n",
      "Method:                 Least Squares   Sparsity:                    1.708e+04\n",
      "Date:                Sun, 12 Mar 2023   No. Observations:                 9167\n",
      "Time:                        13:30:25   Df Residuals:                     9150\n",
      "                                        Df Model:                           16\n",
      "===============================================================================================================\n",
      "                                                  coef    std err          t      P>|t|      [0.025      0.975]\n",
      "---------------------------------------------------------------------------------------------------------------\n",
      "Intercept                                    1.906e+04   6763.786      2.818      0.005    5802.400    3.23e+04\n",
      "C(day_of_week, Treatment(reference=5))[T.0]  3948.7793   6760.468      0.584      0.559   -9303.248    1.72e+04\n",
      "C(day_of_week, Treatment(reference=5))[T.1]  3965.8301   6760.432      0.587      0.557   -9286.126    1.72e+04\n",
      "C(day_of_week, Treatment(reference=5))[T.2]  4008.8008   6760.348      0.593      0.553   -9242.991    1.73e+04\n",
      "C(day_of_week, Treatment(reference=5))[T.3]  3989.0293   6760.363      0.590      0.555   -9262.792    1.72e+04\n",
      "C(day_of_week, Treatment(reference=5))[T.4]  3929.6406   6760.414      0.581      0.561   -9322.281    1.72e+04\n",
      "C(month_of_year)[T.2]                        -221.7812    383.923     -0.578      0.563    -974.355     530.793\n",
      "C(month_of_year)[T.3]                        -875.2715    372.895     -2.347      0.019   -1606.229    -144.314\n",
      "C(month_of_year)[T.4]                        -901.5215    380.793     -2.367      0.018   -1647.962    -155.081\n",
      "C(month_of_year)[T.5]                        -381.6602    376.102     -1.015      0.310   -1118.904     355.584\n",
      "C(month_of_year)[T.6]                       -1111.7402    376.176     -2.955      0.003   -1849.129    -374.351\n",
      "C(month_of_year)[T.7]                        -875.6211    374.250     -2.340      0.019   -1609.235    -142.007\n",
      "C(month_of_year)[T.8]                       -1077.0117    371.959     -2.896      0.004   -1806.135    -347.889\n",
      "C(month_of_year)[T.9]                        -916.8125    376.809     -2.433      0.015   -1655.443    -178.182\n",
      "C(month_of_year)[T.10]                        -35.7617    377.059     -0.095      0.924    -774.881     703.358\n",
      "C(month_of_year)[T.11]                       -123.2422    375.020     -0.329      0.742    -858.365     611.881\n",
      "C(month_of_year)[T.12]                       -405.0313    375.809     -1.078      0.281   -1141.701     331.639\n",
      "===============================================================================================================\n"
     ]
    }
   ],
   "source": [
    "for q in [q1, q2]:\n",
    "    quantile_model = model.fit(q=q)\n",
    "    print(quantile_model.summary())"
   ]
  },
  {
   "cell_type": "code",
   "execution_count": 30,
   "id": "5c8bcf47-c3a6-407e-99db-3e041c4a9c30",
   "metadata": {},
   "outputs": [
    {
     "data": {
      "text/html": [
       "<div>\n",
       "<style scoped>\n",
       "    .dataframe tbody tr th:only-of-type {\n",
       "        vertical-align: middle;\n",
       "    }\n",
       "\n",
       "    .dataframe tbody tr th {\n",
       "        vertical-align: top;\n",
       "    }\n",
       "\n",
       "    .dataframe thead th {\n",
       "        text-align: right;\n",
       "    }\n",
       "</style>\n",
       "<table border=\"1\" class=\"dataframe\">\n",
       "  <thead>\n",
       "    <tr style=\"text-align: right;\">\n",
       "      <th></th>\n",
       "      <th>quantile</th>\n",
       "      <th>day</th>\n",
       "      <th>month</th>\n",
       "      <th>price</th>\n",
       "    </tr>\n",
       "  </thead>\n",
       "  <tbody>\n",
       "    <tr>\n",
       "      <th>0</th>\n",
       "      <td>0.25</td>\n",
       "      <td>C(day_of_week, Treatment(reference=5))[T.0]</td>\n",
       "      <td>C(month_of_year)[T.4]</td>\n",
       "      <td>-8685.500000</td>\n",
       "    </tr>\n",
       "    <tr>\n",
       "      <th>1</th>\n",
       "      <td>0.75</td>\n",
       "      <td>C(day_of_week, Treatment(reference=5))[T.2]</td>\n",
       "      <td>C(month_of_year)[T.10]</td>\n",
       "      <td>4008.800783</td>\n",
       "    </tr>\n",
       "  </tbody>\n",
       "</table>\n",
       "</div>"
      ],
      "text/plain": [
       "   quantile                                          day  \\\n",
       "0      0.25  C(day_of_week, Treatment(reference=5))[T.0]   \n",
       "1      0.75  C(day_of_week, Treatment(reference=5))[T.2]   \n",
       "\n",
       "                    month        price  \n",
       "0   C(month_of_year)[T.4] -8685.500000  \n",
       "1  C(month_of_year)[T.10]  4008.800783  "
      ]
     },
     "execution_count": 30,
     "metadata": {},
     "output_type": "execute_result"
    }
   ],
   "source": [
    "results"
   ]
  },
  {
   "cell_type": "code",
   "execution_count": 31,
   "id": "a4e756dd-4d78-4b90-a180-c0697baac6a6",
   "metadata": {},
   "outputs": [],
   "source": [
    "# Calculate sell-to-buy ratio for day of the week\n",
    "buy_mean = df1.groupby(df1.index.dayofweek == 0)['Price'].mean().min()\n",
    "sell_mean = df1.groupby(df1.index.dayofweek == 2)['Price'].mean().max()\n",
    "\n",
    "s2b_day_ratio = sell_mean / buy_mean\n",
    "\n",
    "# Calculate sell-to-buy ratio for month of the year\n",
    "buy_mean = df1.groupby(df1.index.month == 4)['Price'].mean().min()\n",
    "sell_mean = df1.groupby(df1.index.month == 11)['Price'].mean().max()\n",
    "\n",
    "s2b_month_ratio = sell_mean / buy_mean\n"
   ]
  },
  {
   "cell_type": "code",
   "execution_count": 32,
   "id": "7179979d-9a2f-47d0-b368-49f0c9488f31",
   "metadata": {},
   "outputs": [
    {
     "data": {
      "text/plain": [
       "1.0122689324393612"
      ]
     },
     "execution_count": 32,
     "metadata": {},
     "output_type": "execute_result"
    }
   ],
   "source": [
    "s2b_day_ratio"
   ]
  },
  {
   "cell_type": "code",
   "execution_count": 33,
   "id": "4d0694b3-014a-42bc-a992-68ec5c67139c",
   "metadata": {},
   "outputs": [
    {
     "data": {
      "text/plain": [
       "1.0354355503398749"
      ]
     },
     "execution_count": 33,
     "metadata": {},
     "output_type": "execute_result"
    }
   ],
   "source": [
    "s2b_month_ratio"
   ]
  }
 ],
 "metadata": {
  "kernelspec": {
   "display_name": "Python 3 (ipykernel)",
   "language": "python",
   "name": "python3"
  },
  "language_info": {
   "codemirror_mode": {
    "name": "ipython",
    "version": 3
   },
   "file_extension": ".py",
   "mimetype": "text/x-python",
   "name": "python",
   "nbconvert_exporter": "python",
   "pygments_lexer": "ipython3",
   "version": "3.11.3"
  }
 },
 "nbformat": 4,
 "nbformat_minor": 5
}
